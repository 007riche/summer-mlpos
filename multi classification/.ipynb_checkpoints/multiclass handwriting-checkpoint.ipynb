{
 "cells": [
  {
   "cell_type": "code",
   "execution_count": 1,
   "metadata": {},
   "outputs": [],
   "source": [
    "# keras function allowing to download mnist dataset\n",
    "from keras.datasets import mnist"
   ]
  },
  {
   "cell_type": "code",
   "execution_count": 2,
   "metadata": {},
   "outputs": [],
   "source": [
    "# Directly download the MNIST dataset in the code and store it in the dataset variable\n",
    "dataset=mnist.load_data('mymnist332.db')"
   ]
  },
  {
   "cell_type": "code",
   "execution_count": 3,
   "metadata": {},
   "outputs": [
    {
     "data": {
      "text/plain": [
       "2"
      ]
     },
     "execution_count": 3,
     "metadata": {},
     "output_type": "execute_result"
    }
   ],
   "source": [
    "len(dataset)"
   ]
  },
  {
   "cell_type": "code",
   "execution_count": 4,
   "metadata": {},
   "outputs": [
    {
     "data": {
      "text/plain": [
       "((array([[[0, 0, 0, ..., 0, 0, 0],\n",
       "          [0, 0, 0, ..., 0, 0, 0],\n",
       "          [0, 0, 0, ..., 0, 0, 0],\n",
       "          ...,\n",
       "          [0, 0, 0, ..., 0, 0, 0],\n",
       "          [0, 0, 0, ..., 0, 0, 0],\n",
       "          [0, 0, 0, ..., 0, 0, 0]],\n",
       "  \n",
       "         [[0, 0, 0, ..., 0, 0, 0],\n",
       "          [0, 0, 0, ..., 0, 0, 0],\n",
       "          [0, 0, 0, ..., 0, 0, 0],\n",
       "          ...,\n",
       "          [0, 0, 0, ..., 0, 0, 0],\n",
       "          [0, 0, 0, ..., 0, 0, 0],\n",
       "          [0, 0, 0, ..., 0, 0, 0]],\n",
       "  \n",
       "         [[0, 0, 0, ..., 0, 0, 0],\n",
       "          [0, 0, 0, ..., 0, 0, 0],\n",
       "          [0, 0, 0, ..., 0, 0, 0],\n",
       "          ...,\n",
       "          [0, 0, 0, ..., 0, 0, 0],\n",
       "          [0, 0, 0, ..., 0, 0, 0],\n",
       "          [0, 0, 0, ..., 0, 0, 0]],\n",
       "  \n",
       "         ...,\n",
       "  \n",
       "         [[0, 0, 0, ..., 0, 0, 0],\n",
       "          [0, 0, 0, ..., 0, 0, 0],\n",
       "          [0, 0, 0, ..., 0, 0, 0],\n",
       "          ...,\n",
       "          [0, 0, 0, ..., 0, 0, 0],\n",
       "          [0, 0, 0, ..., 0, 0, 0],\n",
       "          [0, 0, 0, ..., 0, 0, 0]],\n",
       "  \n",
       "         [[0, 0, 0, ..., 0, 0, 0],\n",
       "          [0, 0, 0, ..., 0, 0, 0],\n",
       "          [0, 0, 0, ..., 0, 0, 0],\n",
       "          ...,\n",
       "          [0, 0, 0, ..., 0, 0, 0],\n",
       "          [0, 0, 0, ..., 0, 0, 0],\n",
       "          [0, 0, 0, ..., 0, 0, 0]],\n",
       "  \n",
       "         [[0, 0, 0, ..., 0, 0, 0],\n",
       "          [0, 0, 0, ..., 0, 0, 0],\n",
       "          [0, 0, 0, ..., 0, 0, 0],\n",
       "          ...,\n",
       "          [0, 0, 0, ..., 0, 0, 0],\n",
       "          [0, 0, 0, ..., 0, 0, 0],\n",
       "          [0, 0, 0, ..., 0, 0, 0]]], dtype=uint8),\n",
       "  array([5, 0, 4, ..., 5, 6, 8], dtype=uint8)),\n",
       " (array([[[0, 0, 0, ..., 0, 0, 0],\n",
       "          [0, 0, 0, ..., 0, 0, 0],\n",
       "          [0, 0, 0, ..., 0, 0, 0],\n",
       "          ...,\n",
       "          [0, 0, 0, ..., 0, 0, 0],\n",
       "          [0, 0, 0, ..., 0, 0, 0],\n",
       "          [0, 0, 0, ..., 0, 0, 0]],\n",
       "  \n",
       "         [[0, 0, 0, ..., 0, 0, 0],\n",
       "          [0, 0, 0, ..., 0, 0, 0],\n",
       "          [0, 0, 0, ..., 0, 0, 0],\n",
       "          ...,\n",
       "          [0, 0, 0, ..., 0, 0, 0],\n",
       "          [0, 0, 0, ..., 0, 0, 0],\n",
       "          [0, 0, 0, ..., 0, 0, 0]],\n",
       "  \n",
       "         [[0, 0, 0, ..., 0, 0, 0],\n",
       "          [0, 0, 0, ..., 0, 0, 0],\n",
       "          [0, 0, 0, ..., 0, 0, 0],\n",
       "          ...,\n",
       "          [0, 0, 0, ..., 0, 0, 0],\n",
       "          [0, 0, 0, ..., 0, 0, 0],\n",
       "          [0, 0, 0, ..., 0, 0, 0]],\n",
       "  \n",
       "         ...,\n",
       "  \n",
       "         [[0, 0, 0, ..., 0, 0, 0],\n",
       "          [0, 0, 0, ..., 0, 0, 0],\n",
       "          [0, 0, 0, ..., 0, 0, 0],\n",
       "          ...,\n",
       "          [0, 0, 0, ..., 0, 0, 0],\n",
       "          [0, 0, 0, ..., 0, 0, 0],\n",
       "          [0, 0, 0, ..., 0, 0, 0]],\n",
       "  \n",
       "         [[0, 0, 0, ..., 0, 0, 0],\n",
       "          [0, 0, 0, ..., 0, 0, 0],\n",
       "          [0, 0, 0, ..., 0, 0, 0],\n",
       "          ...,\n",
       "          [0, 0, 0, ..., 0, 0, 0],\n",
       "          [0, 0, 0, ..., 0, 0, 0],\n",
       "          [0, 0, 0, ..., 0, 0, 0]],\n",
       "  \n",
       "         [[0, 0, 0, ..., 0, 0, 0],\n",
       "          [0, 0, 0, ..., 0, 0, 0],\n",
       "          [0, 0, 0, ..., 0, 0, 0],\n",
       "          ...,\n",
       "          [0, 0, 0, ..., 0, 0, 0],\n",
       "          [0, 0, 0, ..., 0, 0, 0],\n",
       "          [0, 0, 0, ..., 0, 0, 0]]], dtype=uint8),\n",
       "  array([7, 2, 1, ..., 4, 5, 6], dtype=uint8)))"
      ]
     },
     "execution_count": 4,
     "metadata": {},
     "output_type": "execute_result"
    }
   ],
   "source": [
    "#contains train and test sets, So len() => 2\n",
    "dataset "
   ]
  },
  {
   "cell_type": "code",
   "execution_count": 5,
   "metadata": {},
   "outputs": [],
   "source": [
    "# Get these sets in the following variables\n",
    "train, test = dataset "
   ]
  },
  {
   "cell_type": "code",
   "execution_count": 6,
   "metadata": {},
   "outputs": [
    {
     "data": {
      "text/plain": [
       "2"
      ]
     },
     "execution_count": 6,
     "metadata": {},
     "output_type": "execute_result"
    }
   ],
   "source": [
    "# Contains Y_train and X_train, so len() => 2\n",
    "len(train)"
   ]
  },
  {
   "cell_type": "code",
   "execution_count": 7,
   "metadata": {},
   "outputs": [],
   "source": [
    "# Supervised learning, Y already known"
   ]
  },
  {
   "cell_type": "code",
   "execution_count": 8,
   "metadata": {},
   "outputs": [],
   "source": [
    "# Get x-train and y-train\n",
    "X_train, y_train = train # 3Ds data"
   ]
  },
  {
   "cell_type": "code",
   "execution_count": 9,
   "metadata": {},
   "outputs": [],
   "source": [
    "# Get x-test and y-test\n",
    "X_test, y_test = test"
   ]
  },
  {
   "cell_type": "code",
   "execution_count": 10,
   "metadata": {},
   "outputs": [
    {
     "data": {
      "text/plain": [
       "60000"
      ]
     },
     "execution_count": 10,
     "metadata": {},
     "output_type": "execute_result"
    }
   ],
   "source": [
    "len(X_train)"
   ]
  },
  {
   "cell_type": "code",
   "execution_count": 11,
   "metadata": {},
   "outputs": [
    {
     "data": {
      "text/plain": [
       "10000"
      ]
     },
     "execution_count": 11,
     "metadata": {},
     "output_type": "execute_result"
    }
   ],
   "source": [
    "len(X_test)"
   ]
  },
  {
   "cell_type": "code",
   "execution_count": 12,
   "metadata": {},
   "outputs": [
    {
     "data": {
      "text/plain": [
       "array([[  0,   0,   0,   0,   0,   0,   0,   0,   0,   0,   0,   0,   0,\n",
       "          0,   0,   0,   0,   0,   0,   0,   0,   0,   0,   0,   0,   0,\n",
       "          0,   0],\n",
       "       [  0,   0,   0,   0,   0,   0,   0,   0,   0,   0,   0,   0,   0,\n",
       "          0,   0,   0,   0,   0,   0,   0,   0,   0,   0,   0,   0,   0,\n",
       "          0,   0],\n",
       "       [  0,   0,   0,   0,   0,   0,   0,   0,   0,   0,   0,   0,   0,\n",
       "          0,   0,   0,   0,   0,   0,   0,   0,   0,   0,   0,   0,   0,\n",
       "          0,   0],\n",
       "       [  0,   0,   0,   0,   0,   0,   0,   0,   0,   0,   0,   0,   0,\n",
       "          0,   0,   0,   0,   0,   0,   0,   0,   0,   0,   0,   0,   0,\n",
       "          0,   0],\n",
       "       [  0,   0,   0,   0,   0,   0,   0,   0,   0,   0,   0,   0,   0,\n",
       "          0,   0,   0,   0,   0,   0,   0,   0,   0,   0,   0,   0,   0,\n",
       "          0,   0],\n",
       "       [  0,   0,   0,   0,   0,   0,   0,   0,   0,   0,   0,   0,   3,\n",
       "         18,  18,  18, 126, 136, 175,  26, 166, 255, 247, 127,   0,   0,\n",
       "          0,   0],\n",
       "       [  0,   0,   0,   0,   0,   0,   0,   0,  30,  36,  94, 154, 170,\n",
       "        253, 253, 253, 253, 253, 225, 172, 253, 242, 195,  64,   0,   0,\n",
       "          0,   0],\n",
       "       [  0,   0,   0,   0,   0,   0,   0,  49, 238, 253, 253, 253, 253,\n",
       "        253, 253, 253, 253, 251,  93,  82,  82,  56,  39,   0,   0,   0,\n",
       "          0,   0],\n",
       "       [  0,   0,   0,   0,   0,   0,   0,  18, 219, 253, 253, 253, 253,\n",
       "        253, 198, 182, 247, 241,   0,   0,   0,   0,   0,   0,   0,   0,\n",
       "          0,   0],\n",
       "       [  0,   0,   0,   0,   0,   0,   0,   0,  80, 156, 107, 253, 253,\n",
       "        205,  11,   0,  43, 154,   0,   0,   0,   0,   0,   0,   0,   0,\n",
       "          0,   0],\n",
       "       [  0,   0,   0,   0,   0,   0,   0,   0,   0,  14,   1, 154, 253,\n",
       "         90,   0,   0,   0,   0,   0,   0,   0,   0,   0,   0,   0,   0,\n",
       "          0,   0],\n",
       "       [  0,   0,   0,   0,   0,   0,   0,   0,   0,   0,   0, 139, 253,\n",
       "        190,   2,   0,   0,   0,   0,   0,   0,   0,   0,   0,   0,   0,\n",
       "          0,   0],\n",
       "       [  0,   0,   0,   0,   0,   0,   0,   0,   0,   0,   0,  11, 190,\n",
       "        253,  70,   0,   0,   0,   0,   0,   0,   0,   0,   0,   0,   0,\n",
       "          0,   0],\n",
       "       [  0,   0,   0,   0,   0,   0,   0,   0,   0,   0,   0,   0,  35,\n",
       "        241, 225, 160, 108,   1,   0,   0,   0,   0,   0,   0,   0,   0,\n",
       "          0,   0],\n",
       "       [  0,   0,   0,   0,   0,   0,   0,   0,   0,   0,   0,   0,   0,\n",
       "         81, 240, 253, 253, 119,  25,   0,   0,   0,   0,   0,   0,   0,\n",
       "          0,   0],\n",
       "       [  0,   0,   0,   0,   0,   0,   0,   0,   0,   0,   0,   0,   0,\n",
       "          0,  45, 186, 253, 253, 150,  27,   0,   0,   0,   0,   0,   0,\n",
       "          0,   0],\n",
       "       [  0,   0,   0,   0,   0,   0,   0,   0,   0,   0,   0,   0,   0,\n",
       "          0,   0,  16,  93, 252, 253, 187,   0,   0,   0,   0,   0,   0,\n",
       "          0,   0],\n",
       "       [  0,   0,   0,   0,   0,   0,   0,   0,   0,   0,   0,   0,   0,\n",
       "          0,   0,   0,   0, 249, 253, 249,  64,   0,   0,   0,   0,   0,\n",
       "          0,   0],\n",
       "       [  0,   0,   0,   0,   0,   0,   0,   0,   0,   0,   0,   0,   0,\n",
       "          0,  46, 130, 183, 253, 253, 207,   2,   0,   0,   0,   0,   0,\n",
       "          0,   0],\n",
       "       [  0,   0,   0,   0,   0,   0,   0,   0,   0,   0,   0,   0,  39,\n",
       "        148, 229, 253, 253, 253, 250, 182,   0,   0,   0,   0,   0,   0,\n",
       "          0,   0],\n",
       "       [  0,   0,   0,   0,   0,   0,   0,   0,   0,   0,  24, 114, 221,\n",
       "        253, 253, 253, 253, 201,  78,   0,   0,   0,   0,   0,   0,   0,\n",
       "          0,   0],\n",
       "       [  0,   0,   0,   0,   0,   0,   0,   0,  23,  66, 213, 253, 253,\n",
       "        253, 253, 198,  81,   2,   0,   0,   0,   0,   0,   0,   0,   0,\n",
       "          0,   0],\n",
       "       [  0,   0,   0,   0,   0,   0,  18, 171, 219, 253, 253, 253, 253,\n",
       "        195,  80,   9,   0,   0,   0,   0,   0,   0,   0,   0,   0,   0,\n",
       "          0,   0],\n",
       "       [  0,   0,   0,   0,  55, 172, 226, 253, 253, 253, 253, 244, 133,\n",
       "         11,   0,   0,   0,   0,   0,   0,   0,   0,   0,   0,   0,   0,\n",
       "          0,   0],\n",
       "       [  0,   0,   0,   0, 136, 253, 253, 253, 212, 135, 132,  16,   0,\n",
       "          0,   0,   0,   0,   0,   0,   0,   0,   0,   0,   0,   0,   0,\n",
       "          0,   0],\n",
       "       [  0,   0,   0,   0,   0,   0,   0,   0,   0,   0,   0,   0,   0,\n",
       "          0,   0,   0,   0,   0,   0,   0,   0,   0,   0,   0,   0,   0,\n",
       "          0,   0],\n",
       "       [  0,   0,   0,   0,   0,   0,   0,   0,   0,   0,   0,   0,   0,\n",
       "          0,   0,   0,   0,   0,   0,   0,   0,   0,   0,   0,   0,   0,\n",
       "          0,   0],\n",
       "       [  0,   0,   0,   0,   0,   0,   0,   0,   0,   0,   0,   0,   0,\n",
       "          0,   0,   0,   0,   0,   0,   0,   0,   0,   0,   0,   0,   0,\n",
       "          0,   0]], dtype=uint8)"
      ]
     },
     "execution_count": 12,
     "metadata": {},
     "output_type": "execute_result"
    }
   ],
   "source": [
    "X_train[0]  # 28 x 28 => 2D image"
   ]
  },
  {
   "cell_type": "code",
   "execution_count": 13,
   "metadata": {},
   "outputs": [
    {
     "data": {
      "text/plain": [
       "(28, 28)"
      ]
     },
     "execution_count": 13,
     "metadata": {},
     "output_type": "execute_result"
    }
   ],
   "source": [
    "X_train[0].shape"
   ]
  },
  {
   "cell_type": "code",
   "execution_count": 14,
   "metadata": {},
   "outputs": [
    {
     "data": {
      "text/plain": [
       "(60000, 28, 28)"
      ]
     },
     "execution_count": 14,
     "metadata": {},
     "output_type": "execute_result"
    }
   ],
   "source": [
    "X_train.shape"
   ]
  },
  {
   "cell_type": "code",
   "execution_count": 15,
   "metadata": {},
   "outputs": [],
   "source": [
    "# importing matplot for showing images\n",
    "import matplotlib.pyplot as plt"
   ]
  },
  {
   "cell_type": "code",
   "execution_count": 16,
   "metadata": {},
   "outputs": [],
   "source": [
    "# Selecting an image of x-train DS\n",
    "img = X_train[53972]"
   ]
  },
  {
   "cell_type": "code",
   "execution_count": 17,
   "metadata": {},
   "outputs": [
    {
     "data": {
      "text/plain": [
       "<matplotlib.image.AxesImage at 0x15983399d88>"
      ]
     },
     "execution_count": 17,
     "metadata": {},
     "output_type": "execute_result"
    },
    {
     "data": {
      "image/png": "[encoded data removed]",
      "text/plain": [
       "<Figure size 432x288 with 1 Axes>"
      ]
     },
     "metadata": {
      "needs_background": "light"
     },
     "output_type": "display_data"
    }
   ],
   "source": [
    "# plotting the image\n",
    "plt.imshow(img)"
   ]
  },
  {
   "cell_type": "code",
   "execution_count": 18,
   "metadata": {},
   "outputs": [
    {
     "data": {
      "text/plain": [
       "<matplotlib.image.AxesImage at 0x1598344ea08>"
      ]
     },
     "execution_count": 18,
     "metadata": {},
     "output_type": "execute_result"
    },
    {
     "data": {
      "image/png": "[encoded data removed]",
      "text/plain": [
       "<Figure size 432x288 with 1 Axes>"
      ]
     },
     "metadata": {
      "needs_background": "light"
     },
     "output_type": "display_data"
    }
   ],
   "source": [
    "# Grayscale\n",
    "plt.imshow(img, cmap='gray')"
   ]
  },
  {
   "cell_type": "code",
   "execution_count": 19,
   "metadata": {},
   "outputs": [
    {
     "data": {
      "text/plain": [
       "array([5, 0, 4, ..., 5, 6, 8], dtype=uint8)"
      ]
     },
     "execution_count": 19,
     "metadata": {},
     "output_type": "execute_result"
    }
   ],
   "source": [
    "y_train"
   ]
  },
  {
   "cell_type": "code",
   "execution_count": 20,
   "metadata": {},
   "outputs": [
    {
     "data": {
      "text/plain": [
       "(60000,)"
      ]
     },
     "execution_count": 20,
     "metadata": {},
     "output_type": "execute_result"
    }
   ],
   "source": [
    "y_train.shape"
   ]
  },
  {
   "cell_type": "code",
   "execution_count": 21,
   "metadata": {},
   "outputs": [],
   "source": [
    "# No meaning of features Here, as images are these of Digital numbers\n",
    "# no need of convolution layer\n",
    "# no need of pooling layer\n",
    "\n",
    "\n",
    "# As images here are of 2D, we may need flatten layer, but here we will use another method to flatten image dimensions\n",
    "# using numpy"
   ]
  },
  {
   "cell_type": "code",
   "execution_count": 22,
   "metadata": {},
   "outputs": [
    {
     "data": {
      "text/plain": [
       "numpy.ndarray"
      ]
     },
     "execution_count": 22,
     "metadata": {},
     "output_type": "execute_result"
    }
   ],
   "source": [
    "type(img)"
   ]
  },
  {
   "cell_type": "code",
   "execution_count": 23,
   "metadata": {},
   "outputs": [],
   "source": [
    "img_1D = img.reshape(28 * 28)"
   ]
  },
  {
   "cell_type": "code",
   "execution_count": 24,
   "metadata": {},
   "outputs": [
    {
     "data": {
      "text/plain": [
       "(784,)"
      ]
     },
     "execution_count": 24,
     "metadata": {},
     "output_type": "execute_result"
    }
   ],
   "source": [
    "img_1D.shape"
   ]
  },
  {
   "cell_type": "code",
   "execution_count": 25,
   "metadata": {},
   "outputs": [
    {
     "data": {
      "text/plain": [
       "array([  0,   0,   0,   0,   0,   0,   0,   0,   0,   0,   0,   0,   0,\n",
       "         0,   0,   0,   0,   0,   0,   0,   0,   0,   0,   0,   0,   0,\n",
       "         0,   0,   0,   0,   0,   0,   0,   0,   0,   0,   0,   0,   0,\n",
       "         0,   0,   0,   0,   0,   0,   0,   0,   0,   0,   0,   0,   0,\n",
       "         0,   0,   0,   0,   0,   0,   0,   0,   0,   0,   0,   0,   0,\n",
       "         0,   0,   0,   0,   0,   0,   0,   0,   0,   0,   0,   0,   0,\n",
       "         0,   0,   0,   0,   0,   0,   0,   0,   0,   0,   0,   0,   0,\n",
       "         0,   0,   0,   0,   0,   0,   0,   0,   0,   0,   0,   0,   0,\n",
       "         0,   0,   0,   0,   0,   0,   0,   0,   0,   0,   0,   0,   0,\n",
       "         0,   0,  51, 121, 162, 253, 253, 161,  44,   0,   0,   0,   0,\n",
       "         0,   0,   0,   0,   0,   0,   0,   0,   0,   0,   0,   0,   0,\n",
       "         0,   0,   0,   0, 233, 252, 252, 252, 252, 252, 244, 227,   0,\n",
       "         0,   0,   0,   0,   0,   0,   0,   0,   0,   0,   0,   0,   0,\n",
       "         0,   0,   0,   0,   0,   0, 151, 193, 103, 172,  54, 173, 252,\n",
       "       250, 156,  50,   0,   0,   0,   0,   0,   0,   0,   0,   0,   0,\n",
       "         0,   0,   0,   0,   0,   0,   0,   0,   0,  15,   6,  21,   0,\n",
       "         7, 131, 252, 252, 133,   0,   0,   0,   0,   0,   0,   0,   0,\n",
       "         0,   0,   0,   0,   0,   0,   0,   0,   0,   0,   0,   0,   0,\n",
       "         0,   0,   0,   6, 168, 252, 228,  10,   0,   0,   0,   0,   0,\n",
       "         0,   0,   0,   0,   0,   0,   0,   0,   0,   0,   0,   0,   0,\n",
       "         0,   0,   0,   0,   0,   0,  48, 252, 253,  41,   0,   0,   0,\n",
       "         0,   0,   0,   0,   0,   0,   0,   0,   0,   0,   0,   0,   0,\n",
       "         0,   0,   0,   0,   0,   0,   0,   0,  14, 252, 253, 145,   0,\n",
       "         0,   0,   0,   0,   0,   0,   0,   0,   0,   0,   0,   0,   0,\n",
       "         0,   0,   0,   0,   0,   0,   0,   0,   0,   0,  14, 252, 253,\n",
       "       145,   0,   0,   0,   0,   0,   0,   0,   0,   0,   0,   0,   0,\n",
       "         0,   0,   0,   0,   0,   0,   0,   0,   0,   0,   0,   0,  14,\n",
       "       252, 253, 145,   0,   0,   0,   0,   0,   0,   0,   0,   0,   0,\n",
       "         0,   0,   0,   0,   0,   0,   0,   0,   0,   0,   0,   0,   0,\n",
       "         0,  14, 252, 253, 145,   0,   0,   0,   0,   0,   0,   0,   0,\n",
       "         0,   0,   0,   0,   0,   0,   0,   0,   0,   0,   0,   0,   0,\n",
       "         0,   0,   0,  14, 253, 255,  13,   0,   0,   0,   0,   0,   0,\n",
       "         0,   0,   0,   0,   0,   0,   0,   0,   0,   0,   0,   0,   0,\n",
       "         0,   0,   0,   0,   0, 140, 252, 253,  13,   0,   0,   0,   0,\n",
       "         0,   0,   0,   0,   0,   0,   0,   0,   0,   0,   0,   0,   0,\n",
       "         0,   0,   0,   0,   0,   0,  10, 185, 252, 253,  13,   0,   0,\n",
       "         0,   0,   0,   0,   0,   0,   0,   0,   0,   0,   0,   0,   0,\n",
       "         0,   0,   0,   0,   0,   0,  17, 102, 217, 252, 252, 253, 215,\n",
       "       213, 171,  81,  81,  81,  81,  34,   0,   0,   0,   0,   0,   0,\n",
       "         0,   0,   0,   0,   0,   0,   0, 124, 211, 252, 252, 252, 252,\n",
       "       253, 252, 252, 252, 252, 252, 252, 252, 211,   0,   0,   0,   0,\n",
       "         0,   0,   0,   0,   0,   0,   0,   0,  17, 176, 252, 252, 252,\n",
       "       252, 224,  66,  66,  66,  66,  66,  66,  66,  66,  62,   0,   0,\n",
       "         0,   0,   0,   0,   0,   0,   0,   0,   0,   0, 171, 252, 252,\n",
       "       252, 252, 250, 100,   0,   0,   0,   0,   0,   0,   0,   0,   0,\n",
       "         0,   0,   0,   0,   0,   0,   0,   0,   0,   0,   0,   0, 213,\n",
       "       252, 252, 252, 249, 143,   0,   0,   0,   0,   0,   0,   0,   0,\n",
       "         0,   0,   0,   0,   0,   0,   0,   0,   0,   0,   0,   0,   0,\n",
       "         0, 135, 252, 252, 250, 213,   0,   0,   0,   0,   0,   0,   0,\n",
       "         0,   0,   0,   0,   0,   0,   0,   0,   0,   0,   0,   0,   0,\n",
       "         0,   0,   0,  38, 224, 252, 141,   0,   0,   0,   0,   0,   0,\n",
       "         0,   0,   0,   0,   0,   0,   0,   0,   0,   0,   0,   0,   0,\n",
       "         0,   0,   0,   0,   0,   0,   0,   0,   0,   0,   0,   0,   0,\n",
       "         0,   0,   0,   0,   0,   0,   0,   0,   0,   0,   0,   0,   0,\n",
       "         0,   0,   0,   0,   0,   0,   0,   0,   0,   0,   0,   0,   0,\n",
       "         0,   0,   0,   0,   0,   0,   0,   0,   0,   0,   0,   0,   0,\n",
       "         0,   0,   0,   0,   0,   0,   0,   0,   0,   0,   0,   0,   0,\n",
       "         0,   0,   0,   0,   0,   0,   0,   0,   0,   0,   0,   0,   0,\n",
       "         0,   0,   0,   0,   0,   0,   0,   0,   0,   0,   0,   0,   0,\n",
       "         0,   0,   0,   0,   0,   0,   0,   0,   0,   0,   0,   0,   0,\n",
       "         0,   0,   0,   0], dtype=uint8)"
      ]
     },
     "execution_count": 25,
     "metadata": {},
     "output_type": "execute_result"
    }
   ],
   "source": [
    "img_1D"
   ]
  },
  {
   "cell_type": "code",
   "execution_count": 26,
   "metadata": {},
   "outputs": [],
   "source": [
    "X_train_1D = X_train.reshape(-1, 28*28) # Reshaping all the images in the dataset"
   ]
  },
  {
   "cell_type": "code",
   "execution_count": 27,
   "metadata": {},
   "outputs": [
    {
     "data": {
      "text/plain": [
       "(60000, 784)"
      ]
     },
     "execution_count": 27,
     "metadata": {},
     "output_type": "execute_result"
    }
   ],
   "source": [
    "X_train_1D.shape"
   ]
  },
  {
   "cell_type": "code",
   "execution_count": 28,
   "metadata": {},
   "outputs": [],
   "source": [
    "X_test_1D = X_test.reshape(-1, 28*28) # Reshaping all the images in the dataset"
   ]
  },
  {
   "cell_type": "code",
   "execution_count": 29,
   "metadata": {},
   "outputs": [
    {
     "data": {
      "text/plain": [
       "(10000, 784)"
      ]
     },
     "execution_count": 29,
     "metadata": {},
     "output_type": "execute_result"
    }
   ],
   "source": [
    "X_test_1D.shape"
   ]
  },
  {
   "cell_type": "code",
   "execution_count": 30,
   "metadata": {},
   "outputs": [],
   "source": [
    "# To be continued"
   ]
  },
  {
   "cell_type": "code",
   "execution_count": null,
   "metadata": {},
   "outputs": [],
   "source": []
  },
  {
   "cell_type": "code",
   "execution_count": 31,
   "metadata": {},
   "outputs": [],
   "source": [
    "# Importation of function of keras to convert into categorical variables: dummy Vars without dummy var trap (drop one column)\n",
    "from keras.utils.np_utils import to_categorical"
   ]
  },
  {
   "cell_type": "code",
   "execution_count": 32,
   "metadata": {},
   "outputs": [
    {
     "data": {
      "text/plain": [
       "(60000,)"
      ]
     },
     "execution_count": 32,
     "metadata": {},
     "output_type": "execute_result"
    }
   ],
   "source": [
    "y_train.shape"
   ]
  },
  {
   "cell_type": "code",
   "execution_count": 33,
   "metadata": {},
   "outputs": [
    {
     "data": {
      "text/plain": [
       "array([5, 0, 4, ..., 5, 6, 8], dtype=uint8)"
      ]
     },
     "execution_count": 33,
     "metadata": {},
     "output_type": "execute_result"
    }
   ],
   "source": [
    "y_train"
   ]
  },
  {
   "cell_type": "code",
   "execution_count": 34,
   "metadata": {},
   "outputs": [],
   "source": [
    "y_train_categ=to_categorical(y_train)"
   ]
  },
  {
   "cell_type": "code",
   "execution_count": 35,
   "metadata": {},
   "outputs": [
    {
     "data": {
      "text/plain": [
       "array([[0., 0., 0., ..., 0., 0., 0.],\n",
       "       [1., 0., 0., ..., 0., 0., 0.],\n",
       "       [0., 0., 0., ..., 0., 0., 0.],\n",
       "       ...,\n",
       "       [0., 0., 0., ..., 0., 0., 0.],\n",
       "       [0., 0., 0., ..., 0., 0., 0.],\n",
       "       [0., 0., 0., ..., 0., 1., 0.]], dtype=float32)"
      ]
     },
     "execution_count": 35,
     "metadata": {},
     "output_type": "execute_result"
    }
   ],
   "source": [
    "y_train_categ"
   ]
  },
  {
   "cell_type": "code",
   "execution_count": 36,
   "metadata": {},
   "outputs": [
    {
     "data": {
      "text/plain": [
       "(60000, 10)"
      ]
     },
     "execution_count": 36,
     "metadata": {},
     "output_type": "execute_result"
    }
   ],
   "source": [
    "to_categorical(y_train).shape"
   ]
  },
  {
   "cell_type": "code",
   "execution_count": null,
   "metadata": {},
   "outputs": [],
   "source": []
  },
  {
   "cell_type": "code",
   "execution_count": 37,
   "metadata": {},
   "outputs": [
    {
     "data": {
      "text/plain": [
       "<matplotlib.image.AxesImage at 0x159844ac948>"
      ]
     },
     "execution_count": 37,
     "metadata": {},
     "output_type": "execute_result"
    },
    {
     "data": {
      "image/png": "[encoded data removed]",
      "text/plain": [
       "<Figure size 432x288 with 1 Axes>"
      ]
     },
     "metadata": {
      "needs_background": "light"
     },
     "output_type": "display_data"
    }
   ],
   "source": [
    "# image of the var\n",
    "img = X_train[560]\n",
    "plt.imshow(img)"
   ]
  },
  {
   "cell_type": "code",
   "execution_count": 38,
   "metadata": {},
   "outputs": [
    {
     "data": {
      "text/plain": [
       "7"
      ]
     },
     "execution_count": 38,
     "metadata": {},
     "output_type": "execute_result"
    }
   ],
   "source": [
    "# digit of the var\n",
    "y_train[560]"
   ]
  },
  {
   "cell_type": "code",
   "execution_count": 39,
   "metadata": {},
   "outputs": [
    {
     "data": {
      "text/plain": [
       "array([0., 0., 0., 0., 0., 0., 0., 1., 0., 0.], dtype=float32)"
      ]
     },
     "execution_count": 39,
     "metadata": {},
     "output_type": "execute_result"
    }
   ],
   "source": [
    "# the var in its categorical shape\n",
    "y_train_categ[560]"
   ]
  },
  {
   "cell_type": "code",
   "execution_count": 40,
   "metadata": {},
   "outputs": [],
   "source": [
    "from keras.models import Sequential"
   ]
  },
  {
   "cell_type": "code",
   "execution_count": 41,
   "metadata": {},
   "outputs": [],
   "source": [
    "model = Sequential()"
   ]
  },
  {
   "cell_type": "code",
   "execution_count": 42,
   "metadata": {},
   "outputs": [],
   "source": [
    "from keras.layers import Dense"
   ]
  },
  {
   "cell_type": "code",
   "execution_count": 43,
   "metadata": {},
   "outputs": [],
   "source": [
    "model.add(\n",
    "    Dense(\n",
    "    units=512, # Common number based on this kind of images\n",
    "    input_dim=28*28, # Dims of images\n",
    "    activation='relu',\n",
    "    )\n",
    ")"
   ]
  },
  {
   "cell_type": "code",
   "execution_count": 44,
   "metadata": {},
   "outputs": [
    {
     "name": "stdout",
     "output_type": "stream",
     "text": [
      "Model: \"sequential\"\n",
      "_________________________________________________________________\n",
      "Layer (type)                 Output Shape              Param #   \n",
      "=================================================================\n",
      "dense (Dense)                (None, 512)               401920    \n",
      "=================================================================\n",
      "Total params: 401,920\n",
      "Trainable params: 401,920\n",
      "Non-trainable params: 0\n",
      "_________________________________________________________________\n"
     ]
    }
   ],
   "source": [
    "model.summary()"
   ]
  },
  {
   "cell_type": "code",
   "execution_count": 45,
   "metadata": {},
   "outputs": [],
   "source": [
    "model.add(\n",
    "    Dense(\n",
    "    units=256, # Common number based on this kind of images\n",
    "    activation='relu',\n",
    "    )\n",
    ")"
   ]
  },
  {
   "cell_type": "code",
   "execution_count": 46,
   "metadata": {},
   "outputs": [],
   "source": [
    "model.add(\n",
    "    Dense(\n",
    "    units=128, # Common number based on this kind of images\n",
    "    activation='relu',\n",
    "    )\n",
    ")"
   ]
  },
  {
   "cell_type": "code",
   "execution_count": 47,
   "metadata": {},
   "outputs": [],
   "source": [
    "model.add(\n",
    "    Dense(\n",
    "    units=64, # Common number based on this kind of images\n",
    "    activation='relu',\n",
    "    )\n",
    ")"
   ]
  },
  {
   "cell_type": "code",
   "execution_count": 48,
   "metadata": {},
   "outputs": [],
   "source": [
    "model.add(\n",
    "    Dense(\n",
    "    units=10, # Common number based on this kind of images\n",
    "    activation='softmax',\n",
    "    )\n",
    ")"
   ]
  },
  {
   "cell_type": "code",
   "execution_count": 49,
   "metadata": {},
   "outputs": [
    {
     "name": "stdout",
     "output_type": "stream",
     "text": [
      "Model: \"sequential\"\n",
      "_________________________________________________________________\n",
      "Layer (type)                 Output Shape              Param #   \n",
      "=================================================================\n",
      "dense (Dense)                (None, 512)               401920    \n",
      "_________________________________________________________________\n",
      "dense_1 (Dense)              (None, 256)               131328    \n",
      "_________________________________________________________________\n",
      "dense_2 (Dense)              (None, 128)               32896     \n",
      "_________________________________________________________________\n",
      "dense_3 (Dense)              (None, 64)                8256      \n",
      "_________________________________________________________________\n",
      "dense_4 (Dense)              (None, 10)                650       \n",
      "=================================================================\n",
      "Total params: 575,050\n",
      "Trainable params: 575,050\n",
      "Non-trainable params: 0\n",
      "_________________________________________________________________\n"
     ]
    }
   ],
   "source": [
    "model.summary()"
   ]
  },
  {
   "cell_type": "code",
   "execution_count": 50,
   "metadata": {},
   "outputs": [],
   "source": [
    "from keras.optimizers import RMSprop"
   ]
  },
  {
   "cell_type": "code",
   "execution_count": 51,
   "metadata": {},
   "outputs": [],
   "source": [
    "# Collecting model's informations\n",
    "model.compile(\n",
    "    optimizer=RMSprop(),\n",
    "    loss='categorical_crossentropy',\n",
    "    metrics=['accuracy'],\n",
    ")"
   ]
  },
  {
   "cell_type": "code",
   "execution_count": 52,
   "metadata": {},
   "outputs": [
    {
     "name": "stdout",
     "output_type": "stream",
     "text": [
      "Epoch 1/4\n",
      "1875/1875 [==============================] - 54s 13ms/step - loss: 3.0950 - accuracy: 0.8137\n",
      "Epoch 2/4\n",
      "1875/1875 [==============================] - 24s 13ms/step - loss: 0.3386 - accuracy: 0.9333\n",
      "Epoch 3/4\n",
      "1875/1875 [==============================] - 25s 13ms/step - loss: 0.3308 - accuracy: 0.9393\n",
      "Epoch 4/4\n",
      "1875/1875 [==============================] - 29s 16ms/step - loss: 0.3363 - accuracy: 0.9437\n"
     ]
    },
    {
     "data": {
      "text/plain": [
       "<keras.callbacks.History at 0x15985806a08>"
      ]
     },
     "execution_count": 52,
     "metadata": {},
     "output_type": "execute_result"
    }
   ],
   "source": [
    "model.fit(X_train_1D, y_train_categ, epochs=4)"
   ]
  },
  {
   "cell_type": "code",
   "execution_count": 53,
   "metadata": {},
   "outputs": [],
   "source": [
    "model.save('handwrite.h5')"
   ]
  },
  {
   "cell_type": "code",
   "execution_count": 54,
   "metadata": {},
   "outputs": [],
   "source": [
    "model_loss=model.history.history['loss']"
   ]
  },
  {
   "cell_type": "code",
   "execution_count": 55,
   "metadata": {},
   "outputs": [],
   "source": [
    "import pandas as pd"
   ]
  },
  {
   "cell_type": "code",
   "execution_count": 56,
   "metadata": {},
   "outputs": [],
   "source": [
    "model_loss = pd.DataFrame(model_loss)"
   ]
  },
  {
   "cell_type": "code",
   "execution_count": 57,
   "metadata": {},
   "outputs": [
    {
     "data": {
      "text/plain": [
       "<matplotlib.axes._subplots.AxesSubplot at 0x15985e3ad08>"
      ]
     },
     "execution_count": 57,
     "metadata": {},
     "output_type": "execute_result"
    },
    {
     "data": {
      "image/png": "[encoded data removed]",
      "text/plain": [
       "<Figure size 432x288 with 1 Axes>"
      ]
     },
     "metadata": {
      "needs_background": "light"
     },
     "output_type": "display_data"
    }
   ],
   "source": [
    "model_loss.plot()"
   ]
  },
  {
   "cell_type": "code",
   "execution_count": 58,
   "metadata": {},
   "outputs": [],
   "source": [
    "model_accur =model.history.history['accuracy']"
   ]
  },
  {
   "cell_type": "code",
   "execution_count": 59,
   "metadata": {},
   "outputs": [],
   "source": [
    "model_accur = pd.DataFrame(model_accur)"
   ]
  },
  {
   "cell_type": "code",
   "execution_count": 60,
   "metadata": {},
   "outputs": [
    {
     "data": {
      "text/plain": [
       "<matplotlib.axes._subplots.AxesSubplot at 0x15985c07a88>"
      ]
     },
     "execution_count": 60,
     "metadata": {},
     "output_type": "execute_result"
    },
    {
     "data": {
      "image/png": "[encoded data removed]",
      "text/plain": [
       "<Figure size 432x288 with 1 Axes>"
      ]
     },
     "metadata": {
      "needs_background": "light"
     },
     "output_type": "display_data"
    }
   ],
   "source": [
    "model_accur.plot()"
   ]
  },
  {
   "cell_type": "code",
   "execution_count": 61,
   "metadata": {},
   "outputs": [
    {
     "data": {
      "text/plain": [
       "[array([[-0.04499547,  0.03335109, -0.01614613, ..., -0.06109985,\n",
       "         -0.06343392,  0.04037506],\n",
       "        [-0.04595752,  0.01169135, -0.02058401, ..., -0.06378154,\n",
       "         -0.01992955,  0.05001729],\n",
       "        [-0.03690849, -0.0445355 , -0.06072807, ...,  0.04325491,\n",
       "         -0.00823484,  0.01868262],\n",
       "        ...,\n",
       "        [ 0.05375066, -0.02979743,  0.06213829, ..., -0.00912918,\n",
       "         -0.06247571,  0.01114701],\n",
       "        [-0.03636415, -0.04913351,  0.00575132, ...,  0.00133926,\n",
       "         -0.04685157,  0.05436231],\n",
       "        [-0.03976387, -0.03407319, -0.00212195, ..., -0.0111917 ,\n",
       "          0.00236898, -0.06597959]], dtype=float32),\n",
       " array([-8.37633163e-02, -3.03688962e-02,  1.53290465e-01, -1.80865135e-02,\n",
       "        -1.95444152e-01, -9.89466533e-02, -2.31101476e-02, -9.34800319e-03,\n",
       "        -8.82009342e-02,  1.29985273e-01,  1.23350592e-02, -1.33280322e-01,\n",
       "        -6.59784973e-02, -1.37947679e-01, -1.79965328e-02, -1.17003329e-01,\n",
       "        -1.06006972e-01, -1.44290537e-01, -1.95955500e-01, -3.10840104e-02,\n",
       "        -3.02145146e-02, -3.47509794e-02, -2.39314009e-02, -1.46737054e-01,\n",
       "        -1.83886178e-02, -5.56382500e-02,  7.59142935e-02, -1.23671323e-01,\n",
       "        -1.92582846e-01, -2.95868423e-02, -1.07175864e-01, -1.52864471e-01,\n",
       "        -1.49975672e-01, -6.65548956e-03, -1.70473643e-02,  2.74280412e-03,\n",
       "        -2.70743687e-02, -2.77997032e-02,  3.66980284e-02, -4.94588539e-02,\n",
       "        -2.25372508e-01,  4.38449472e-01, -1.35388384e-02, -1.33219719e-01,\n",
       "        -1.22296244e-01, -8.95333365e-02, -1.52876480e-02, -1.00005016e-01,\n",
       "        -2.62161680e-02,  4.07988429e-02, -5.27976640e-02, -5.13441861e-02,\n",
       "        -6.07258938e-02, -1.13529287e-01, -3.64852734e-02, -1.34589020e-02,\n",
       "        -4.63079847e-02, -6.06301688e-02, -1.47863805e-01, -1.58976018e-01,\n",
       "        -2.13493407e-02, -1.49407819e-01, -8.45795348e-02, -3.87325548e-02,\n",
       "        -1.77852854e-01, -6.55329376e-02, -5.94970025e-02,  2.35099252e-02,\n",
       "        -9.18320492e-02, -7.67344609e-02,  3.92346978e-02, -1.14269599e-01,\n",
       "        -9.33820382e-02, -1.46919772e-01, -1.01556793e-01, -1.86660826e-01,\n",
       "        -3.81040201e-02, -2.29182109e-01, -3.09799742e-02, -8.60545039e-02,\n",
       "        -1.79900192e-02, -9.80176553e-02, -1.49249882e-01, -5.95679954e-02,\n",
       "        -1.02896495e-02, -2.93759182e-02, -1.55516505e-01, -1.50357649e-01,\n",
       "        -2.73873601e-02, -5.56499287e-02, -1.30893081e-01, -9.65494663e-02,\n",
       "        -4.06066552e-02, -4.82922904e-02, -4.61671762e-02, -8.44988525e-02,\n",
       "        -8.74650329e-02, -1.23447120e-01, -6.01944998e-02, -1.75064877e-01,\n",
       "        -4.95463237e-02, -7.35486373e-02, -1.16023220e-01, -1.12614386e-01,\n",
       "        -4.36840579e-02, -7.32047632e-02, -2.10225821e-01, -1.61118396e-02,\n",
       "         4.72091623e-02, -8.16740766e-02, -1.25040993e-01, -9.97212753e-02,\n",
       "         2.27620639e-02, -4.89085726e-02, -1.09683722e-01, -1.15262546e-01,\n",
       "        -2.91562136e-02, -2.10809633e-01, -1.86767504e-02,  1.19913705e-02,\n",
       "        -9.42156762e-02, -1.39511377e-01, -5.13090082e-02, -8.73182043e-02,\n",
       "        -1.85947686e-01,  6.27173126e-01, -1.39555305e-01, -3.67971025e-02,\n",
       "         1.58072874e-01, -8.61086547e-02, -2.46834140e-02, -1.33733362e-01,\n",
       "        -2.12296881e-02, -3.97912711e-02, -5.89262061e-02, -1.16988011e-01,\n",
       "        -8.26062337e-02, -1.86732352e-01, -9.27330926e-02, -1.97845146e-01,\n",
       "        -2.97120977e-02, -9.60587263e-02, -1.05309576e-01, -1.25839218e-01,\n",
       "        -9.43253860e-02, -3.43306437e-02, -4.92069218e-03, -6.27632439e-02,\n",
       "        -7.24738985e-02, -1.82976142e-01, -3.76692675e-02, -2.05174133e-01,\n",
       "        -7.21458271e-02, -8.39659572e-02, -1.39298126e-01, -1.86249509e-01,\n",
       "        -1.79040059e-01, -4.71170060e-02, -9.53116119e-02, -1.90135255e-01,\n",
       "        -3.90369445e-02, -1.68039128e-02, -1.66110024e-01, -1.05239697e-01,\n",
       "        -1.05489932e-01, -1.84623733e-01,  9.72817000e-03, -4.16455418e-02,\n",
       "        -8.96800011e-02, -1.72386065e-01, -9.68471393e-02, -4.70718332e-02,\n",
       "        -8.15544650e-02, -1.58155784e-02, -1.05881291e-02, -5.04603647e-02,\n",
       "         1.28806874e-01,  2.90128756e-02, -4.18902598e-02, -1.28370628e-01,\n",
       "        -1.19617879e-01, -1.03581890e-01, -1.37925416e-01, -4.82482277e-02,\n",
       "        -6.71931207e-02, -5.11839986e-02, -1.54458106e-01, -6.09126547e-03,\n",
       "        -2.57956441e-02, -1.20058022e-01, -1.92574576e-01, -9.97847468e-02,\n",
       "        -7.30935633e-02, -2.87495852e-02, -8.41292217e-02, -2.91553885e-02,\n",
       "        -2.18730476e-02, -1.20157823e-02, -6.65189326e-02, -9.01087448e-02,\n",
       "        -2.89178956e-02, -1.63843557e-02, -2.79474836e-02, -1.54149145e-01,\n",
       "        -2.89935023e-02, -2.01383710e-01, -1.55213922e-01, -3.11644487e-02,\n",
       "        -1.23049475e-01, -7.55175427e-02, -4.79735173e-02, -1.08264171e-01,\n",
       "         2.77734641e-02, -1.86287805e-01, -1.21488512e-01, -4.75888401e-02,\n",
       "        -1.81762967e-02, -9.01785269e-02, -8.96051675e-02, -7.17897937e-02,\n",
       "        -1.10684752e-01, -5.51064648e-02,  3.35893631e-01,  2.22151205e-02,\n",
       "        -1.53140416e-02, -2.12215409e-01, -1.59549639e-02, -1.61577046e-01,\n",
       "        -1.57813326e-01, -2.18391716e-01, -1.85587153e-01, -1.64713576e-01,\n",
       "        -1.97927907e-01, -1.19803287e-01, -2.13539615e-01, -1.60649851e-01,\n",
       "        -1.94015391e-02, -1.01882942e-01, -8.94045830e-02, -2.29262598e-02,\n",
       "        -7.36449361e-02, -3.78266200e-02, -3.36924605e-02, -5.38825020e-02,\n",
       "        -1.77919697e-02, -1.00342128e-02, -1.93477690e-01, -2.15693325e-01,\n",
       "        -1.31212965e-01, -6.26084134e-02,  2.82850694e-02, -8.26995373e-02,\n",
       "         8.11486319e-02, -1.11110806e-01, -5.66033572e-02, -9.26492289e-02,\n",
       "        -1.81679159e-01, -9.21209231e-02, -8.43292326e-02, -4.63212281e-03,\n",
       "         4.76619527e-02, -1.70205325e-01, -5.56662977e-02, -4.33206782e-02,\n",
       "        -1.34178018e-02, -9.67866480e-02, -1.07733108e-01, -2.20166609e-01,\n",
       "        -1.69212252e-01,  3.81174237e-02, -4.99978364e-02, -9.20838583e-03,\n",
       "        -7.33109489e-02, -1.43012568e-01, -6.09019324e-02, -1.51075661e-01,\n",
       "        -2.55690329e-02, -6.78877085e-02, -1.66596442e-01, -9.85503849e-03,\n",
       "        -9.10584778e-02, -1.42680015e-02, -2.35193446e-01, -1.72634736e-01,\n",
       "        -2.21100245e-02, -1.36792026e-02, -4.96631600e-02, -1.92623645e-01,\n",
       "        -2.11604834e-02, -1.36557862e-01, -4.03984226e-02, -2.94113774e-02,\n",
       "        -1.02152750e-01, -1.26220301e-01, -1.24717735e-01, -1.45819828e-01,\n",
       "        -1.54932082e-01, -2.15653274e-02, -1.90001410e-02, -8.61679986e-02,\n",
       "        -4.85333614e-02, -4.05472182e-02, -1.11004636e-01, -3.19775008e-02,\n",
       "        -3.31751183e-02, -2.03342125e-01, -9.04802419e-03, -2.64699869e-02,\n",
       "        -2.51290984e-02, -3.13139707e-02, -1.21693939e-01, -1.25900030e-01,\n",
       "        -5.23976386e-02, -6.65157363e-02, -2.21688487e-02, -6.53038472e-02,\n",
       "        -1.28810987e-01, -5.08938432e-02, -7.88246915e-02, -1.67110816e-01,\n",
       "        -1.68013573e-02, -1.94081470e-01, -2.39449367e-02, -2.35611591e-02,\n",
       "        -2.22167354e-02, -4.50358428e-02, -1.29492611e-01, -5.84942698e-02,\n",
       "        -1.37976125e-01, -1.71726629e-01, -1.71502307e-01, -9.75782052e-02,\n",
       "        -2.01699436e-02, -1.49753476e-02, -1.42162323e-01, -2.09966581e-02,\n",
       "        -2.14224905e-01, -1.35976583e-01, -9.61928964e-02, -1.59496978e-01,\n",
       "        -3.01620532e-02, -4.92954552e-02, -3.15907635e-02, -1.32072523e-01,\n",
       "        -9.07143652e-02, -3.98147926e-02, -1.62381589e-01, -9.99186039e-02,\n",
       "        -5.09386882e-02, -1.69663310e-01, -7.70483166e-02, -1.02129124e-01,\n",
       "        -1.18687026e-01,  1.13531938e-02, -1.80115718e-02, -1.01015978e-02,\n",
       "        -1.27722666e-01, -7.22510368e-02, -2.57160049e-02, -9.51823890e-02,\n",
       "         5.94314970e-02, -8.23892504e-02, -4.88691442e-02, -3.15558612e-02,\n",
       "        -2.49631368e-02, -3.69233266e-02, -1.74037427e-01, -7.39421397e-02,\n",
       "        -1.05025098e-01, -3.62822115e-02, -8.11031088e-02, -7.49628097e-02,\n",
       "        -6.87690601e-02, -1.91578433e-01, -1.65159941e-01, -1.23751394e-01,\n",
       "        -6.49454668e-02, -1.09752230e-01, -2.78898776e-02,  2.44689226e-01,\n",
       "        -4.61097881e-02, -4.33587730e-02, -8.05810839e-02,  4.70432974e-02,\n",
       "        -1.49659976e-01, -1.48164734e-01,  4.19692904e-01, -2.30821639e-01,\n",
       "        -2.20339805e-01, -4.52046879e-02, -1.08356319e-01,  5.78204513e-01,\n",
       "        -5.47982976e-02, -2.07038689e-02, -1.90164328e-01, -1.03387631e-01,\n",
       "        -1.27875879e-01, -1.50681183e-01, -1.19100980e-01, -1.26570404e-01,\n",
       "        -9.87640396e-02, -1.41293004e-01, -1.95888747e-02, -2.26815734e-02,\n",
       "        -7.21740648e-02, -1.12459436e-01, -2.25381888e-02, -2.78718267e-02,\n",
       "        -5.15014604e-02, -1.28471360e-01, -1.70640215e-01, -3.18300165e-02,\n",
       "        -1.09641910e-01, -2.08219424e-01,  5.68008423e-01, -1.28413141e-01,\n",
       "        -2.20239252e-01, -3.05412672e-02, -1.50014222e-01, -2.06693728e-02,\n",
       "        -3.23731005e-02, -1.31984934e-01, -2.32551545e-02, -2.51713544e-02,\n",
       "        -9.73162148e-03, -1.23867810e-01, -9.02816281e-02, -3.58274244e-02,\n",
       "         4.18503769e-04, -1.32284716e-01, -1.80779532e-01, -8.26945528e-02,\n",
       "        -6.23041056e-02, -6.92216158e-02,  3.08681488e-01,  2.45260936e-03,\n",
       "        -2.24076062e-01, -1.20676912e-01, -1.12945363e-01, -3.67873758e-02,\n",
       "        -1.26158029e-01, -1.99988097e-01, -1.99705958e-01, -2.65538394e-02,\n",
       "        -1.94408938e-01, -1.87542722e-01, -1.48521423e-01, -2.14624591e-02,\n",
       "        -1.60478845e-01, -2.73776446e-02,  3.57500389e-02,  2.63513532e-02,\n",
       "        -2.99811568e-02, -1.39067724e-01, -1.30075440e-01, -3.37836146e-02,\n",
       "        -3.28557901e-02,  6.73381016e-02, -4.59557883e-02, -4.01406512e-02,\n",
       "        -2.26475876e-02, -9.55201834e-02,  1.10367686e-02, -2.26935297e-02,\n",
       "        -1.47972196e-01, -2.48120308e-01, -2.17389818e-02, -1.35083929e-01,\n",
       "         2.70789359e-02, -2.24670880e-02, -2.02555522e-01, -2.14570686e-02,\n",
       "        -1.18781567e-01, -2.03798264e-02, -9.58049595e-02, -1.19185857e-01,\n",
       "        -1.34014904e-01, -1.17294125e-01, -5.95337003e-02,  1.34540305e-01,\n",
       "        -1.01223253e-02, -1.86283663e-01, -9.13161412e-02, -1.65823475e-01,\n",
       "        -1.45661920e-01, -7.77772814e-02, -1.70652326e-02, -6.67132512e-02,\n",
       "        -7.57288039e-02, -1.61293209e-01, -1.34150475e-01, -3.35904732e-02,\n",
       "        -1.26497626e-01, -2.23135665e-01, -1.00495614e-01, -2.72421259e-02,\n",
       "        -8.26389566e-02, -6.13411441e-02,  1.78829078e-02, -3.34223434e-02,\n",
       "        -5.08402139e-02, -4.49429378e-02, -1.16058007e-01, -4.71581034e-02,\n",
       "        -5.22675253e-02, -1.17008001e-01,  5.99472046e-01, -1.60890460e-01,\n",
       "        -1.16400532e-01, -1.62490457e-02, -8.71690959e-02, -1.02635443e-01],\n",
       "       dtype=float32),\n",
       " array([[ 0.01100372, -0.01939435,  0.01330086, ..., -0.02654667,\n",
       "         -0.00521038,  0.05281809],\n",
       "        [-0.0383145 , -0.02946161, -0.02269699, ..., -0.01437291,\n",
       "          0.00216727,  0.00534192],\n",
       "        [-0.04661715,  0.05759037, -0.04345229, ...,  0.02110842,\n",
       "          0.12921098, -0.00771391],\n",
       "        ...,\n",
       "        [ 0.04021486,  0.05535698, -0.04696878, ..., -0.05459851,\n",
       "         -0.12386759, -0.09550518],\n",
       "        [ 0.01540034,  0.03867233,  0.06166591, ..., -0.09387757,\n",
       "          0.08680545,  0.07994944],\n",
       "        [-0.0783359 ,  0.02626164, -0.15165578, ...,  0.04533814,\n",
       "          0.07665689,  0.02513944]], dtype=float32),\n",
       " array([-0.04299208, -0.09382474, -0.09139545, -0.05893505, -0.08384468,\n",
       "        -0.13765685, -0.07219747, -0.02008828, -0.07596789, -0.07347109,\n",
       "        -0.07892342, -0.03922719, -0.1272712 , -0.0957435 , -0.04381124,\n",
       "        -0.01912645, -0.07380394, -0.02490019, -0.03611455, -0.09952164,\n",
       "        -0.02192834, -0.04383869, -0.07757748, -0.10769782, -0.03023786,\n",
       "        -0.06778543, -0.02217562, -0.0293956 , -0.01821255, -0.02741989,\n",
       "        -0.05349339, -0.0636223 , -0.03567348, -0.09886335, -0.01491269,\n",
       "        -0.09074316, -0.04252782, -0.02682428, -0.02429847, -0.07447146,\n",
       "        -0.06801575, -0.02255939, -0.00324339, -0.07647236, -0.07138241,\n",
       "        -0.03610732, -0.03628221, -0.0243326 , -0.0208055 , -0.08278604,\n",
       "        -0.05144417, -0.04181448, -0.07059582, -0.09162543, -0.09231099,\n",
       "         0.04302636, -0.0511826 , -0.03201421, -0.08294   , -0.00315561,\n",
       "        -0.10932569, -0.02755818, -0.02753607, -0.10507904, -0.02912657,\n",
       "        -0.03516565, -0.09078044, -0.01320797, -0.01737405, -0.07671095,\n",
       "        -0.07918969, -0.06017012, -0.02860202, -0.12219685,  0.33784074,\n",
       "        -0.04662472, -0.07371377, -0.02408402, -0.10986125,  0.04396041,\n",
       "        -0.05293771, -0.01363145, -0.08021499, -0.03567976, -0.07995337,\n",
       "        -0.12209269, -0.05110758, -0.03911256, -0.07785521, -0.02915635,\n",
       "        -0.12004391,  0.12787965, -0.06249078, -0.01700188, -0.06132449,\n",
       "        -0.03191541, -0.01133564,  0.06962086, -0.03852567, -0.0123493 ,\n",
       "        -0.02583082, -0.04459742, -0.09959583, -0.03424669, -0.05937305,\n",
       "        -0.11276904, -0.04952808, -0.0831791 , -0.03472881, -0.05860998,\n",
       "        -0.01647508, -0.03369471, -0.09416883, -0.14006852, -0.10072736,\n",
       "        -0.04280473, -0.03189922, -0.09806564,  0.31998485, -0.1136122 ,\n",
       "        -0.15393332, -0.01286616, -0.08965115, -0.10688888, -0.06982456,\n",
       "        -0.1444316 , -0.13434997, -0.0305425 , -0.15815055, -0.10474724,\n",
       "        -0.10729365, -0.08079994, -0.13597928, -0.08362501, -0.09162231,\n",
       "        -0.02479498, -0.02688405, -0.06758317,  0.19947873, -0.07772139,\n",
       "        -0.07104576, -0.05721826,  0.0370368 , -0.0911651 , -0.0348032 ,\n",
       "        -0.07144195, -0.09241212, -0.14849475, -0.07726826, -0.01887162,\n",
       "        -0.04799982, -0.09541214, -0.03737227, -0.07416794, -0.12081264,\n",
       "        -0.09544441, -0.06273047, -0.09180014, -0.05638637,  0.00520854,\n",
       "        -0.05531439, -0.06432533,  0.07697827, -0.09499177,  0.27554065,\n",
       "        -0.01232605, -0.08383248, -0.08217248, -0.0326807 , -0.03956102,\n",
       "        -0.05611837, -0.07636307, -0.08127743, -0.02718813, -0.08578874,\n",
       "        -0.02964851, -0.07625303, -0.03550164, -0.03678786,  0.13429143,\n",
       "        -0.04336294, -0.11728082, -0.05823211,  0.23308408, -0.10666849,\n",
       "        -0.0491527 , -0.13609672, -0.04757692, -0.03628949, -0.09563551,\n",
       "        -0.03039722, -0.04001806, -0.07602562, -0.04612932, -0.01932805,\n",
       "        -0.04457036, -0.05149438, -0.01324037, -0.04535849, -0.01170594,\n",
       "        -0.09148154, -0.10164558, -0.08222385, -0.03352461, -0.03163335,\n",
       "        -0.03210367, -0.02372052, -0.09382685, -0.0756655 , -0.04710277,\n",
       "        -0.09459003, -0.10284663, -0.06401462, -0.06965208, -0.06176952,\n",
       "        -0.14118433, -0.10428282, -0.09773303, -0.05501743, -0.01166898,\n",
       "        -0.0805447 , -0.08462226, -0.1129122 , -0.05264745,  0.03868328,\n",
       "         0.07212085, -0.09485334, -0.0461072 , -0.10293932, -0.08986053,\n",
       "        -0.0940703 , -0.09662613, -0.02225267, -0.03087678, -0.00213974,\n",
       "        -0.11371888, -0.11019282, -0.01231372, -0.04418522, -0.04479403,\n",
       "        -0.05908235, -0.03583721, -0.02477747, -0.06179336, -0.02939311,\n",
       "         0.00155308, -0.02627536, -0.13281639, -0.08698823, -0.05005352,\n",
       "        -0.03824478, -0.01751642, -0.03790536, -0.034588  , -0.02188756,\n",
       "        -0.0761949 ], dtype=float32),\n",
       " array([[-0.04598977, -0.08457232, -0.08941353, ..., -0.02197491,\n",
       "          0.08819118, -0.02501872],\n",
       "        [ 0.03645595, -0.01876033,  0.08911546, ...,  0.06996023,\n",
       "         -0.01299855, -0.00252359],\n",
       "        [-0.03147059, -0.03702619,  0.089899  , ..., -0.00955717,\n",
       "         -0.08744241, -0.12239601],\n",
       "        ...,\n",
       "        [-0.0800534 , -0.01919912, -0.0126235 , ...,  0.02328313,\n",
       "          0.03511997,  0.05130159],\n",
       "        [-0.02766052, -0.05081556,  0.06864725, ...,  0.04292731,\n",
       "         -0.1026127 , -0.08935498],\n",
       "        [-0.08115575, -0.03584045,  0.01416034, ...,  0.13076685,\n",
       "          0.04693301,  0.01514131]], dtype=float32),\n",
       " array([-0.04374421, -0.04890098, -0.04178316, -0.04656808, -0.03685473,\n",
       "        -0.04186096, -0.0681471 ,  0.04499833, -0.02442437, -0.05204014,\n",
       "        -0.04691612, -0.01258606, -0.03649646,  0.18799366, -0.02819118,\n",
       "        -0.02779165, -0.07167889, -0.0565775 , -0.04714872,  0.12444772,\n",
       "        -0.028303  , -0.03850545, -0.0496522 , -0.03532505, -0.05354319,\n",
       "         0.10275511, -0.04321223, -0.04271397,  0.00430016, -0.08306132,\n",
       "        -0.02826286, -0.04098733, -0.08109654,  0.00856853, -0.07911716,\n",
       "        -0.02719454, -0.01321058, -0.07379819, -0.07994186, -0.02335445,\n",
       "        -0.09069285, -0.03358868, -0.07297535, -0.03134257, -0.05044452,\n",
       "        -0.03114354, -0.01609354, -0.04970006, -0.07286615, -0.03079272,\n",
       "        -0.05832063, -0.04393459, -0.01074561, -0.06275882, -0.02122246,\n",
       "        -0.03141351, -0.01206834, -0.04542553, -0.02618303, -0.00750336,\n",
       "        -0.00691344, -0.04885604, -0.05472924, -0.03086188, -0.07736573,\n",
       "        -0.04214654, -0.11267021, -0.02481525, -0.04763212, -0.02877856,\n",
       "        -0.02539171, -0.06652305, -0.0315363 ,  0.00875647, -0.03171616,\n",
       "        -0.02553267, -0.03872208, -0.07323268, -0.05652611, -0.04805988,\n",
       "        -0.07138798, -0.01005067, -0.04356129, -0.03692193, -0.0117744 ,\n",
       "        -0.06516302, -0.01644827, -0.05240922, -0.05844486, -0.08847748,\n",
       "        -0.05088061, -0.06007021, -0.07730066, -0.02619011, -0.01643692,\n",
       "        -0.08084384, -0.0130784 , -0.07237339, -0.08811487, -0.03905144,\n",
       "        -0.00213394, -0.01924715, -0.04009186, -0.04326174, -0.04372431,\n",
       "        -0.00339986, -0.06460246, -0.03208346,  0.1424748 , -0.05076409,\n",
       "        -0.04835057, -0.04969035, -0.02700724, -0.08149891, -0.04410515,\n",
       "        -0.06399789, -0.04772068, -0.04352871, -0.02612301, -0.01334633,\n",
       "         0.04775006, -0.05320934, -0.02580533, -0.0004815 , -0.0495145 ,\n",
       "         0.17277344, -0.10717534, -0.00745969], dtype=float32),\n",
       " array([[-0.05444337, -0.08488236,  0.18055107, ...,  0.13971305,\n",
       "         -0.06797318, -0.11875467],\n",
       "        [-0.00919996, -0.18539266,  0.03667862, ...,  0.15156752,\n",
       "         -0.06017263, -0.03680239],\n",
       "        [ 0.03508953, -0.14984892,  0.07584073, ..., -0.13196257,\n",
       "          0.01502051,  0.12371591],\n",
       "        ...,\n",
       "        [-0.00455671, -0.02813764,  0.06726098, ...,  0.06405813,\n",
       "         -0.06133782,  0.02508049],\n",
       "        [ 0.10267386,  0.08201483,  0.13684388, ..., -0.04185648,\n",
       "         -0.08057337, -0.0890309 ],\n",
       "        [ 0.02085274, -0.1426136 , -0.00261283, ..., -0.18279754,\n",
       "          0.03369334, -0.0869557 ]], dtype=float32),\n",
       " array([-0.0571405 , -0.05855028, -0.08473157, -0.03417161, -0.02123948,\n",
       "        -0.06284324, -0.08842278, -0.06136297, -0.00482287, -0.12097599,\n",
       "        -0.02107705, -0.01717577, -0.07109617, -0.04231184, -0.04110326,\n",
       "        -0.02332365, -0.06913092, -0.02414979, -0.01386599, -0.02999505,\n",
       "        -0.05994177, -0.03387414, -0.0442708 , -0.05949862, -0.01946849,\n",
       "        -0.07030088, -0.00477015, -0.03821556, -0.0932593 , -0.09178808,\n",
       "        -0.03586859, -0.07352144, -0.05180133, -0.03978425, -0.07132243,\n",
       "        -0.02845623, -0.09881374, -0.0431928 , -0.05092972,  0.10119408,\n",
       "        -0.06629788, -0.01328831, -0.08511422, -0.03681537, -0.03961138,\n",
       "        -0.04844273, -0.1247706 , -0.03718504,  0.00405283, -0.06883561,\n",
       "        -0.04177416, -0.03795573, -0.10466646, -0.05577732, -0.02706184,\n",
       "        -0.02442603, -0.14747189, -0.03778782, -0.0552561 , -0.03963549,\n",
       "        -0.05498006, -0.09127552, -0.04623464, -0.08060463], dtype=float32),\n",
       " array([[-2.70518929e-01, -2.88642108e-01,  1.84363067e-01,\n",
       "          5.75798191e-02, -2.73854941e-01, -1.55409291e-01,\n",
       "         -2.33657002e-01,  3.84783894e-02,  2.00738423e-02,\n",
       "         -2.23665461e-01],\n",
       "        [-3.03420275e-01, -5.48346303e-02,  1.92800418e-01,\n",
       "          9.91637781e-02, -7.68529773e-02,  2.09576022e-02,\n",
       "          1.19196877e-01,  1.69163689e-01,  1.51058286e-01,\n",
       "         -2.79312640e-01],\n",
       "        [-8.02334398e-02, -6.36692941e-01, -4.08020645e-01,\n",
       "         -7.66239643e-01, -5.73117733e-01, -3.56514692e-01,\n",
       "         -3.69768918e-01, -5.58687985e-01, -4.31321323e-01,\n",
       "         -4.26794559e-01],\n",
       "        [-7.44123280e-01, -5.04870355e-01, -8.01977038e-01,\n",
       "         -3.34428221e-01, -8.88042673e-02, -3.89823139e-01,\n",
       "         -7.23985076e-01, -2.26325035e-01, -2.42055938e-01,\n",
       "         -7.92566538e-02],\n",
       "        [-1.84000462e-01, -1.78212225e-01,  2.49156758e-01,\n",
       "          2.95650046e-02, -2.37475961e-01,  3.94478962e-02,\n",
       "          7.78426006e-02, -1.05822474e-01,  1.58975765e-01,\n",
       "          1.07778693e-02],\n",
       "        [-3.50735635e-01, -6.13932192e-01, -3.56972188e-01,\n",
       "         -8.31392288e-01, -5.41446917e-02, -4.36686665e-01,\n",
       "         -2.01269776e-01, -2.38344103e-01, -4.57217515e-01,\n",
       "         -1.73611313e-01],\n",
       "        [ 5.38014714e-03,  1.60524948e-03, -3.56867433e-01,\n",
       "          5.15922569e-02, -1.08608730e-01,  1.46196634e-01,\n",
       "          7.71294758e-02,  1.24154717e-01, -9.60147008e-02,\n",
       "          1.63756832e-01],\n",
       "        [-1.62771657e-01, -4.61271346e-01, -1.73503920e-01,\n",
       "         -5.36189139e-01, -3.10822070e-01, -2.57368863e-01,\n",
       "          6.30495176e-02, -4.27951634e-01, -2.07106367e-01,\n",
       "         -4.52157229e-01],\n",
       "        [-1.75755024e-01,  2.05746084e-01, -6.51998967e-02,\n",
       "         -2.98457146e-01, -1.54889720e-02,  4.29923981e-02,\n",
       "          1.21593615e-03,  1.70573369e-01,  1.91662699e-01,\n",
       "          9.09113437e-02],\n",
       "        [ 5.82586117e-02, -1.97955772e-01,  7.68293664e-02,\n",
       "         -1.07480966e-01, -3.71980160e-01,  2.64059054e-03,\n",
       "         -2.62908190e-01, -9.10704806e-02, -2.12671757e-01,\n",
       "         -2.76881486e-01],\n",
       "        [ 2.46241942e-01, -2.24600077e-01,  1.54804766e-01,\n",
       "         -2.52686203e-01, -5.36363833e-02, -7.53921419e-02,\n",
       "         -3.09001297e-01,  1.77948200e-03, -6.95264265e-02,\n",
       "          1.03797242e-01],\n",
       "        [ 1.57807231e-01,  3.39745209e-02,  1.12158716e-01,\n",
       "          1.03282720e-01,  3.10651902e-02, -1.10478461e-01,\n",
       "         -2.59666651e-01, -1.72047585e-01,  1.55750662e-01,\n",
       "          2.14663103e-01],\n",
       "        [ 8.54304954e-02, -5.42782605e-01, -2.10759595e-01,\n",
       "          1.21893510e-01, -1.86136320e-01, -2.08381563e-01,\n",
       "         -3.15209270e-01, -3.41371775e-01,  2.07893495e-02,\n",
       "         -6.07471801e-02],\n",
       "        [-1.85995609e-01,  6.69799820e-02,  1.72177926e-01,\n",
       "         -8.74349251e-02,  6.97885305e-02, -2.01071441e-01,\n",
       "         -1.05108060e-01, -1.58726856e-01, -1.31877929e-01,\n",
       "         -3.37004930e-01],\n",
       "        [-2.83467233e-01, -2.73527861e-01, -4.50005159e-02,\n",
       "          3.82954217e-02, -4.04956281e-01, -1.37463942e-01,\n",
       "         -3.29102725e-01,  4.89617512e-02, -2.52328217e-01,\n",
       "         -4.61144209e-01],\n",
       "        [-2.09346667e-01, -9.78062004e-02,  2.16192082e-01,\n",
       "         -1.07352816e-01, -6.87555373e-02,  1.53165877e-01,\n",
       "         -3.25372294e-02,  2.09371254e-01,  1.67567968e-01,\n",
       "         -1.92552730e-01],\n",
       "        [-3.79978381e-02, -5.73189855e-02, -2.11370185e-01,\n",
       "         -5.33470958e-02, -2.95794427e-01,  1.69621930e-01,\n",
       "         -1.11818664e-01, -2.45061845e-01, -2.81182230e-02,\n",
       "         -2.30721422e-02],\n",
       "        [-2.38879263e-01,  4.10294980e-02, -1.95925698e-01,\n",
       "          6.51612552e-03,  8.22863504e-02,  8.16755965e-02,\n",
       "          1.23561837e-01, -1.69881526e-02,  4.02309038e-02,\n",
       "         -1.31726801e-01],\n",
       "        [-1.21885017e-01,  1.50087208e-01, -2.97482133e-01,\n",
       "         -1.87565815e-02, -1.55936688e-01, -2.99817473e-01,\n",
       "          2.41771489e-01, -7.53901973e-02, -2.77109951e-01,\n",
       "         -2.77866095e-01],\n",
       "        [-1.75694034e-01,  1.51335031e-01, -4.96069007e-02,\n",
       "         -6.99415803e-02, -2.60231644e-01, -2.46971577e-01,\n",
       "         -4.00838815e-02,  2.73950025e-03,  2.37672180e-01,\n",
       "          1.32260174e-01],\n",
       "        [-6.21392876e-02, -1.43520638e-01, -8.94050449e-02,\n",
       "         -1.02882490e-01, -1.91663727e-01, -3.97994220e-02,\n",
       "         -2.73765445e-01, -2.71125771e-02,  1.91867232e-01,\n",
       "         -3.76177639e-01],\n",
       "        [ 1.93672597e-01, -1.65914878e-01, -1.71238676e-01,\n",
       "         -2.85825282e-01, -1.25537142e-01,  5.10201938e-02,\n",
       "         -3.34855825e-01, -6.94806203e-02, -5.26223965e-02,\n",
       "         -3.68439049e-01],\n",
       "        [ 1.19547965e-02, -2.16434598e-01,  1.70024857e-01,\n",
       "         -3.04138251e-02,  1.39794163e-02, -2.63296425e-01,\n",
       "         -2.09240705e-01, -3.03002540e-03,  1.20603748e-01,\n",
       "          1.79510981e-01],\n",
       "        [-1.10124387e-01, -1.00969942e-02, -3.03900838e-01,\n",
       "          7.66228959e-02, -4.09276605e-01, -7.04931542e-02,\n",
       "         -1.29143327e-01, -3.47371012e-01, -1.60325706e-01,\n",
       "         -3.16584915e-01],\n",
       "        [-2.22925469e-01, -1.28432259e-01,  7.96629116e-02,\n",
       "         -3.31278324e-01,  7.62423277e-02, -8.37000236e-02,\n",
       "          1.19000189e-01, -1.07012182e-01, -1.22767717e-01,\n",
       "         -1.63740993e-01],\n",
       "        [-2.13361189e-01, -2.81682283e-01, -1.62302122e-01,\n",
       "          1.78814337e-01, -1.22839563e-01, -1.64072192e-03,\n",
       "         -1.14779972e-01,  1.02214053e-01, -2.36595646e-01,\n",
       "         -1.34926513e-01],\n",
       "        [-2.02089638e-01, -2.13972688e-01,  2.09753551e-02,\n",
       "         -5.38222976e-02,  6.24671858e-03, -2.03938544e-01,\n",
       "         -2.16281995e-01, -3.85703027e-01,  1.55675888e-01,\n",
       "         -1.07372189e-02],\n",
       "        [ 3.04424409e-02, -1.09325722e-01, -1.99121967e-01,\n",
       "         -3.66414152e-02, -2.75399029e-01,  2.20321313e-01,\n",
       "          8.10229257e-02,  5.19949384e-03, -1.78868081e-02,\n",
       "         -2.78482080e-01],\n",
       "        [-2.13078305e-01, -1.87460542e-01,  1.33102715e-01,\n",
       "         -1.72276288e-01,  2.98360400e-02, -1.01250120e-01,\n",
       "          1.77213922e-01, -2.47988984e-01,  6.92918897e-02,\n",
       "         -2.41241723e-01],\n",
       "        [ 1.45294830e-01, -8.70898664e-02, -2.06752345e-02,\n",
       "          8.18247497e-02, -2.98734516e-01, -1.32475318e-02,\n",
       "         -1.15422584e-01, -1.00536123e-01, -1.39103383e-01,\n",
       "          1.89315379e-01],\n",
       "        [-1.72545955e-01, -1.73302442e-01,  1.62551869e-02,\n",
       "         -2.15983048e-01, -3.40081528e-02,  4.97061834e-02,\n",
       "         -3.70290160e-01, -2.63632506e-01, -2.78290957e-01,\n",
       "         -2.73841798e-01],\n",
       "        [-5.98245919e-01, -3.07465225e-01, -1.24551795e-01,\n",
       "         -6.19467758e-02, -2.39798427e-01, -1.04040787e-01,\n",
       "         -9.75084603e-01, -9.53044072e-02, -1.20658845e-01,\n",
       "         -8.58921558e-02],\n",
       "        [ 1.39537938e-02,  2.14510243e-02,  2.01335296e-01,\n",
       "          1.23971418e-01,  7.87957513e-04,  1.96250901e-01,\n",
       "          2.38133192e-01,  5.54068275e-02,  1.52806148e-01,\n",
       "         -3.79134566e-02],\n",
       "        [ 1.52661413e-01,  1.95485204e-01, -3.14713210e-01,\n",
       "         -1.95471331e-01, -2.36084491e-01, -9.48855132e-02,\n",
       "          1.53924050e-02,  1.52822882e-01,  2.35780664e-02,\n",
       "         -2.34100685e-01],\n",
       "        [ 1.52474165e-01, -3.15198094e-01, -6.00358620e-02,\n",
       "         -2.69776016e-01,  2.12758824e-01, -2.78563797e-01,\n",
       "          2.04219744e-01,  1.76782951e-01, -2.35049784e-01,\n",
       "         -7.90964626e-03],\n",
       "        [-1.61949202e-01, -1.67894945e-01, -9.42169353e-02,\n",
       "          1.59114867e-01, -1.84696183e-01,  2.52829343e-01,\n",
       "         -2.88279980e-01, -9.68390796e-03,  2.41682336e-01,\n",
       "         -4.53268588e-02],\n",
       "        [ 1.51344389e-01,  9.20376778e-02,  5.79531416e-02,\n",
       "          2.47347038e-02, -1.55778527e-01,  1.29624292e-01,\n",
       "          8.26498717e-02,  1.62154183e-01, -8.85676369e-02,\n",
       "         -7.07166642e-03],\n",
       "        [-1.14916280e-01,  1.39084563e-01, -6.14229254e-02,\n",
       "         -2.50067234e-01, -3.19314063e-01,  4.29468490e-02,\n",
       "         -2.21584551e-02, -2.27127358e-01,  9.27735716e-02,\n",
       "         -2.41576105e-01],\n",
       "        [-4.49522644e-01, -6.74971759e-01, -6.28145516e-01,\n",
       "         -1.97993070e-01, -5.68289936e-01, -1.29734278e-01,\n",
       "         -2.74763852e-01, -4.85365748e-01, -3.00852120e-01,\n",
       "         -3.17815095e-01],\n",
       "        [-6.75890625e-01, -4.18914139e-01, -4.69543308e-01,\n",
       "         -4.02184933e-01, -6.36704624e-01, -5.25589526e-01,\n",
       "         -6.18758857e-01, -7.92568207e-01, -2.97129542e-01,\n",
       "         -4.19378221e-01],\n",
       "        [-7.82585517e-02,  1.17211252e-01,  1.00759208e-01,\n",
       "          1.49201527e-01, -3.04889232e-01, -1.61560789e-01,\n",
       "         -2.97732353e-01, -1.54694930e-01, -1.93121403e-01,\n",
       "         -1.05918825e-01],\n",
       "        [-2.91250914e-01, -4.99795899e-02, -1.76070690e-01,\n",
       "          1.09119460e-01, -8.43812525e-02, -6.73989579e-03,\n",
       "         -2.83173591e-01,  1.19181715e-01, -2.35719487e-01,\n",
       "         -2.02254534e-01],\n",
       "        [-5.04876852e-01, -2.91124344e-01, -1.87770516e-01,\n",
       "         -2.49318019e-01, -4.81590837e-01, -7.98140883e-01,\n",
       "         -5.23842454e-01, -3.39456767e-01, -3.20615649e-01,\n",
       "         -8.68446290e-01],\n",
       "        [ 3.42535637e-02, -1.80093452e-01,  2.10299075e-01,\n",
       "          1.42858103e-01,  2.11535394e-01, -2.98660904e-01,\n",
       "          1.90171480e-01, -8.38902742e-02, -2.59884596e-01,\n",
       "          1.37019768e-01],\n",
       "        [ 1.81045920e-01, -6.33874759e-02, -2.47179970e-01,\n",
       "          7.48020262e-02, -1.78845674e-02, -6.00516312e-02,\n",
       "         -2.04298541e-01, -1.23308174e-01, -1.35006011e-01,\n",
       "         -2.09050745e-01],\n",
       "        [ 6.23407103e-02, -3.02286386e-01,  1.64250299e-01,\n",
       "          1.06274404e-01, -6.34696111e-02, -8.50550756e-02,\n",
       "         -7.01631373e-03,  2.55167216e-01, -9.31598470e-02,\n",
       "         -2.39741981e-01],\n",
       "        [-2.21286312e-01, -1.25496104e-01,  4.58185934e-02,\n",
       "         -2.48923600e-01,  5.05143479e-02,  2.87710018e-02,\n",
       "          6.76450599e-03, -3.31969857e-01, -1.60836011e-01,\n",
       "          1.85456604e-01],\n",
       "        [ 6.90639466e-02, -1.03490807e-01, -4.92302664e-02,\n",
       "         -2.42818907e-01, -1.10607296e-02,  1.46633133e-01,\n",
       "          1.67188346e-01, -1.62248746e-01,  4.54399846e-02,\n",
       "          1.23487607e-01],\n",
       "        [-2.23952606e-01, -3.39909233e-02,  4.80129905e-02,\n",
       "         -3.53065766e-02, -2.80175388e-01, -2.55238026e-01,\n",
       "         -1.01194225e-01,  2.09826559e-01, -4.50405702e-02,\n",
       "          2.74249893e-02],\n",
       "        [ 1.53726146e-01, -3.87733757e-01, -1.10565852e-02,\n",
       "         -4.45315599e-01, -3.49196531e-02,  3.76611277e-02,\n",
       "         -6.59509972e-02,  4.74948063e-02, -8.39007273e-03,\n",
       "         -1.45962508e-02],\n",
       "        [-1.33454949e-01, -1.41561151e-01, -1.10526524e-01,\n",
       "          1.99107546e-02,  8.23236778e-02, -2.49688178e-02,\n",
       "         -3.11032146e-01,  1.92566961e-02, -3.09166759e-01,\n",
       "         -1.78539366e-01],\n",
       "        [-2.98890859e-01, -1.97755650e-01, -4.76618344e-03,\n",
       "         -2.47167498e-01, -1.96081296e-01, -1.59129053e-01,\n",
       "          1.40217856e-01, -2.63715476e-01, -6.17159121e-02,\n",
       "          9.85510796e-02],\n",
       "        [ 4.43197712e-02,  1.24739662e-01, -2.77543545e-01,\n",
       "         -2.39025712e-01, -2.93798506e-01, -9.69807133e-02,\n",
       "          1.52163461e-01, -2.68344432e-01, -3.18365097e-01,\n",
       "         -2.47830868e-01],\n",
       "        [-4.75415409e-01, -4.95379508e-01, -4.51439977e-01,\n",
       "         -4.33321863e-01, -3.25463265e-01, -2.56496876e-01,\n",
       "         -8.44475552e-02, -1.01300704e+00, -4.15832132e-01,\n",
       "         -7.75410414e-01],\n",
       "        [ 5.39043434e-02,  5.86856939e-02,  2.18381613e-01,\n",
       "         -1.29177585e-01, -4.28526811e-02,  3.86556285e-03,\n",
       "          1.62972584e-01, -8.55519846e-02, -1.94953591e-01,\n",
       "         -3.98866571e-02],\n",
       "        [-6.72185242e-01,  8.90070647e-02, -1.41959162e-02,\n",
       "         -1.15751371e-01,  2.45018974e-02, -4.15879548e-01,\n",
       "         -4.87141162e-01,  5.98946288e-02, -5.88062108e-02,\n",
       "          1.59236975e-02],\n",
       "        [-4.98846695e-02, -6.24635406e-02, -1.55707434e-01,\n",
       "         -2.95998186e-01, -3.93998623e-01, -4.08666939e-01,\n",
       "         -5.90538681e-02, -4.25642043e-01, -2.73972809e-01,\n",
       "         -5.08560598e-01],\n",
       "        [-2.45823517e-01,  9.61658731e-02, -8.21004510e-02,\n",
       "         -3.69873047e-01,  9.36442465e-02, -1.09019026e-01,\n",
       "         -1.77588254e-01, -2.06644595e-01, -1.24957249e-01,\n",
       "         -2.39596423e-02],\n",
       "        [-2.35169381e-01, -4.36012447e-01, -2.89385438e-01,\n",
       "          1.06768779e-01, -9.02651846e-02,  1.92898270e-02,\n",
       "         -1.25473868e-02, -5.52560747e-01, -8.24746192e-02,\n",
       "         -4.86269027e-01],\n",
       "        [-3.86435464e-02,  2.55691946e-01, -1.10161997e-01,\n",
       "          1.44984990e-01, -8.78761262e-02, -2.15740368e-01,\n",
       "          1.36585608e-01, -1.21469162e-01, -9.82943326e-02,\n",
       "          1.69770941e-01],\n",
       "        [-8.59071463e-02,  5.96213096e-04, -7.86445513e-02,\n",
       "         -5.77515699e-02,  1.59406707e-01, -7.54909357e-03,\n",
       "          1.93195194e-01,  9.71035659e-02,  1.48497328e-01,\n",
       "         -1.58437073e-01],\n",
       "        [ 1.51558846e-01, -1.83582246e-01,  7.08816051e-02,\n",
       "         -1.90516174e-01, -2.30010301e-01,  5.52701391e-03,\n",
       "         -1.67341664e-01, -6.26274943e-02, -1.85362533e-01,\n",
       "         -3.79888080e-02],\n",
       "        [-2.25451700e-02,  8.51645172e-02,  1.71254575e-01,\n",
       "         -7.94325396e-02, -1.90491736e-01, -1.37017854e-02,\n",
       "          2.71036960e-02, -7.34527931e-02,  1.83746770e-01,\n",
       "         -1.31731033e-01],\n",
       "        [-7.85027146e-02, -2.93231532e-02, -1.68357790e-01,\n",
       "          1.00675553e-01, -1.64913237e-01,  1.20636404e-01,\n",
       "         -2.42989331e-01, -2.54202331e-03, -7.17343614e-02,\n",
       "          8.35232530e-03]], dtype=float32),\n",
       " array([-0.02289108, -0.542618  , -0.1732445 , -0.5430948 , -0.28361773,\n",
       "        -0.00209583, -0.05997072, -0.50751364,  0.3222144 , -0.26907116],\n",
       "       dtype=float32)]"
      ]
     },
     "execution_count": 61,
     "metadata": {},
     "output_type": "execute_result"
    }
   ],
   "source": [
    "model.get_weights()"
   ]
  },
  {
   "cell_type": "code",
   "execution_count": 62,
   "metadata": {},
   "outputs": [],
   "source": [
    "# Testing time"
   ]
  },
  {
   "cell_type": "code",
   "execution_count": 63,
   "metadata": {},
   "outputs": [],
   "source": [
    "img_test = X_test[150]"
   ]
  },
  {
   "cell_type": "code",
   "execution_count": 64,
   "metadata": {},
   "outputs": [
    {
     "data": {
      "text/plain": [
       "<matplotlib.image.AxesImage at 0x1598472de48>"
      ]
     },
     "execution_count": 64,
     "metadata": {},
     "output_type": "execute_result"
    },
    {
     "data": {
      "image/png": "[encoded data removed]",
      "text/plain": [
       "<Figure size 432x288 with 1 Axes>"
      ]
     },
     "metadata": {
      "needs_background": "light"
     },
     "output_type": "display_data"
    }
   ],
   "source": [
    "plt.imshow(img_test)"
   ]
  },
  {
   "cell_type": "code",
   "execution_count": 65,
   "metadata": {},
   "outputs": [],
   "source": [
    "#model.predict(img_test)  ## ERROR dimensions"
   ]
  },
  {
   "cell_type": "code",
   "execution_count": 66,
   "metadata": {},
   "outputs": [
    {
     "data": {
      "text/plain": [
       "(28, 28)"
      ]
     },
     "execution_count": 66,
     "metadata": {},
     "output_type": "execute_result"
    }
   ],
   "source": [
    "img_test.shape"
   ]
  },
  {
   "cell_type": "code",
   "execution_count": 67,
   "metadata": {},
   "outputs": [],
   "source": [
    "img_test_f = img_test.reshape(28*28)"
   ]
  },
  {
   "cell_type": "code",
   "execution_count": 68,
   "metadata": {},
   "outputs": [
    {
     "data": {
      "text/plain": [
       "(784,)"
      ]
     },
     "execution_count": 68,
     "metadata": {},
     "output_type": "execute_result"
    }
   ],
   "source": [
    "img_test_f.shape"
   ]
  },
  {
   "cell_type": "code",
   "execution_count": 69,
   "metadata": {},
   "outputs": [],
   "source": [
    "img_test_f=img_test_f.reshape(1, -1)"
   ]
  },
  {
   "cell_type": "code",
   "execution_count": 70,
   "metadata": {},
   "outputs": [
    {
     "data": {
      "text/plain": [
       "(1, 784)"
      ]
     },
     "execution_count": 70,
     "metadata": {},
     "output_type": "execute_result"
    }
   ],
   "source": [
    "img_test_f.shape"
   ]
  },
  {
   "cell_type": "code",
   "execution_count": 71,
   "metadata": {},
   "outputs": [],
   "source": [
    "result = model.predict(img_test_f)"
   ]
  },
  {
   "cell_type": "code",
   "execution_count": null,
   "metadata": {},
   "outputs": [],
   "source": []
  },
  {
   "cell_type": "code",
   "execution_count": 72,
   "metadata": {},
   "outputs": [],
   "source": [
    "# To clear Trained model weights instead of clearing the notebook O/Ps\n",
    "# we can keras.backend module's functions to manipulate the findings of the model"
   ]
  },
  {
   "cell_type": "code",
   "execution_count": 73,
   "metadata": {},
   "outputs": [],
   "source": [
    "#import keras.backend as kerBac"
   ]
  },
  {
   "cell_type": "code",
   "execution_count": 74,
   "metadata": {},
   "outputs": [],
   "source": [
    "# kerBac.clear_session()\n",
    "\n",
    "# clears model's weights"
   ]
  },
  {
   "cell_type": "code",
   "execution_count": null,
   "metadata": {},
   "outputs": [],
   "source": []
  },
  {
   "cell_type": "code",
   "execution_count": 75,
   "metadata": {},
   "outputs": [],
   "source": [
    "# Conversion of datatype\n",
    "\n",
    "#type(result)\n",
    "\n",
    "#result.astype('PandasDatatype')"
   ]
  },
  {
   "cell_type": "code",
   "execution_count": null,
   "metadata": {},
   "outputs": [],
   "source": []
  },
  {
   "cell_type": "code",
   "execution_count": null,
   "metadata": {},
   "outputs": [],
   "source": []
  }
 ],
 "metadata": {
  "kernelspec": {
   "display_name": "Python 3",
   "language": "python",
   "name": "python3"
  },
  "language_info": {
   "codemirror_mode": {
    "name": "ipython",
    "version": 3
   },
   "file_extension": ".py",
   "mimetype": "text/x-python",
   "name": "python",
   "nbconvert_exporter": "python",
   "pygments_lexer": "ipython3",
   "version": "3.7.6"
  }
 },
 "nbformat": 4,
 "nbformat_minor": 4
}
