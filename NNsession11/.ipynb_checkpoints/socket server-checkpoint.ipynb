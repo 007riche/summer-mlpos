{
 "cells": [
  {
   "cell_type": "code",
   "execution_count": null,
   "metadata": {},
   "outputs": [],
   "source": [
    "import socket"
   ]
  },
  {
   "cell_type": "code",
   "execution_count": null,
   "metadata": {},
   "outputs": [],
   "source": [
    "import threading"
   ]
  },
  {
   "cell_type": "code",
   "execution_count": null,
   "metadata": {},
   "outputs": [],
   "source": [
    "s = socket.socket()\n",
    "s.setsockopt(socket.SOL_SOCKET, socket.SO_REUSEADDR, 1)"
   ]
  },
  {
   "cell_type": "code",
   "execution_count": null,
   "metadata": {},
   "outputs": [],
   "source": [
    "port = 5000\n",
    "# binding with any ip addres\n",
    "ip=\"\""
   ]
  },
  {
   "cell_type": "code",
   "execution_count": null,
   "metadata": {},
   "outputs": [],
   "source": [
    "# binding with a specific ip @\n",
    "# ip=\"192.168.56.101\"\n",
    "\n",
    "s.bind((ip, port))\n",
    "s.listen()\n",
    "\n",
    "csession, addr = s.accept()\n",
    "\n",
    "print(addr)"
   ]
  },
  {
   "cell_type": "code",
   "execution_count": null,
   "metadata": {},
   "outputs": [],
   "source": [
    "#serial client connections manully\n",
    "#client 1\n",
    "#csessionA, addr = s.accept()\n",
    "#print(addr)\n",
    "\n",
    "#csessionA.send(b\" <<-----------------  This is from server\")\n",
    "# param of recv is the size of data in Byte\n",
    "#data=csessionA.recv(100)\n",
    "#print(data)"
   ]
  },
  {
   "cell_type": "code",
   "execution_count": null,
   "metadata": {},
   "outputs": [],
   "source": [
    "#client 2\n",
    "#csession2, addr = s.accept()\n",
    "print(addr)\n",
    "#csession2.send(b\"<<-----------------  From the server...\")\n",
    "# param of recv is the size of data in Byte\n",
    "#data=csession2.recv(100)\n",
    "#print(data)"
   ]
  },
  {
   "cell_type": "code",
   "execution_count": null,
   "metadata": {},
   "outputs": [],
   "source": [
    "#serial client connections by looping infinitely\n",
    "#Each current client has to finish its operation and release the server for the next client to connect and so on\n",
    "#while True:\n",
    "   #client 1\n",
    "#    csession, addr = s.accept()\n",
    "#    print(addr)\n",
    "#    csession.send(b\" <<-----------------  This is from server\")\n",
    "    # param of recv is the size of data in Byte\n",
    "#    data=csession.recv(100)\n",
    "#    print(data)"
   ]
  },
  {
   "cell_type": "code",
   "execution_count": null,
   "metadata": {},
   "outputs": [],
   "source": [
    "def serverConnClient():\n",
    "    #server accepts connetion\n",
    "    #csession, addr = s.accept()  commented because used in multithreadung part\n",
    "    print(addr)\n",
    "    csession.send(b\" <<-----------------  This is from server\")\n",
    "    # param of recv is the size of data in Byte\n",
    "    data=csession.recv(100)\n",
    "    print(data)"
   ]
  },
  {
   "cell_type": "code",
   "execution_count": null,
   "metadata": {},
   "outputs": [],
   "source": [
    "#multithreading\n",
    "while True:\n",
    "    #server accepts connetion\n",
    "    csession, addr = s.accept()\n",
    "    #define a threat\n",
    "    T1 = threading.Thread(target=serverConnClient, args=(csession, addr))\n",
    "    #start the threat\n",
    "    T1.start()"
   ]
  }
 ],
 "metadata": {
  "kernelspec": {
   "display_name": "Python 3",
   "language": "python",
   "name": "python3"
  },
  "language_info": {
   "codemirror_mode": {
    "name": "ipython",
    "version": 3
   },
   "file_extension": ".py",
   "mimetype": "text/x-python",
   "name": "python",
   "nbconvert_exporter": "python",
   "pygments_lexer": "ipython3",
   "version": "3.7.6"
  }
 },
 "nbformat": 4,
 "nbformat_minor": 4
}
