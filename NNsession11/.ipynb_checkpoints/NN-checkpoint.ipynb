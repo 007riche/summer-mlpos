{
 "cells": [
  {
   "cell_type": "code",
   "execution_count": 1,
   "metadata": {},
   "outputs": [],
   "source": [
    "import pandas"
   ]
  },
  {
   "cell_type": "code",
   "execution_count": 2,
   "metadata": {},
   "outputs": [],
   "source": [
    "dataset = pandas.read_csv('diabetes.csv', header=None)\n",
    "# header=None"
   ]
  },
  {
   "cell_type": "code",
   "execution_count": 3,
   "metadata": {},
   "outputs": [
    {
     "data": {
      "text/html": [
       "<div>\n",
       "<style scoped>\n",
       "    .dataframe tbody tr th:only-of-type {\n",
       "        vertical-align: middle;\n",
       "    }\n",
       "\n",
       "    .dataframe tbody tr th {\n",
       "        vertical-align: top;\n",
       "    }\n",
       "\n",
       "    .dataframe thead th {\n",
       "        text-align: right;\n",
       "    }\n",
       "</style>\n",
       "<table border=\"1\" class=\"dataframe\">\n",
       "  <thead>\n",
       "    <tr style=\"text-align: right;\">\n",
       "      <th></th>\n",
       "      <th>0</th>\n",
       "      <th>1</th>\n",
       "      <th>2</th>\n",
       "      <th>3</th>\n",
       "      <th>4</th>\n",
       "      <th>5</th>\n",
       "      <th>6</th>\n",
       "      <th>7</th>\n",
       "      <th>8</th>\n",
       "    </tr>\n",
       "  </thead>\n",
       "  <tbody>\n",
       "    <tr>\n",
       "      <th>0</th>\n",
       "      <td>6</td>\n",
       "      <td>148</td>\n",
       "      <td>72</td>\n",
       "      <td>35</td>\n",
       "      <td>0</td>\n",
       "      <td>33.6</td>\n",
       "      <td>0.627</td>\n",
       "      <td>50</td>\n",
       "      <td>1</td>\n",
       "    </tr>\n",
       "    <tr>\n",
       "      <th>1</th>\n",
       "      <td>1</td>\n",
       "      <td>85</td>\n",
       "      <td>66</td>\n",
       "      <td>29</td>\n",
       "      <td>0</td>\n",
       "      <td>26.6</td>\n",
       "      <td>0.351</td>\n",
       "      <td>31</td>\n",
       "      <td>0</td>\n",
       "    </tr>\n",
       "    <tr>\n",
       "      <th>2</th>\n",
       "      <td>8</td>\n",
       "      <td>183</td>\n",
       "      <td>64</td>\n",
       "      <td>0</td>\n",
       "      <td>0</td>\n",
       "      <td>23.3</td>\n",
       "      <td>0.672</td>\n",
       "      <td>32</td>\n",
       "      <td>1</td>\n",
       "    </tr>\n",
       "    <tr>\n",
       "      <th>3</th>\n",
       "      <td>1</td>\n",
       "      <td>89</td>\n",
       "      <td>66</td>\n",
       "      <td>23</td>\n",
       "      <td>94</td>\n",
       "      <td>28.1</td>\n",
       "      <td>0.167</td>\n",
       "      <td>21</td>\n",
       "      <td>0</td>\n",
       "    </tr>\n",
       "    <tr>\n",
       "      <th>4</th>\n",
       "      <td>0</td>\n",
       "      <td>137</td>\n",
       "      <td>40</td>\n",
       "      <td>35</td>\n",
       "      <td>168</td>\n",
       "      <td>43.1</td>\n",
       "      <td>2.288</td>\n",
       "      <td>33</td>\n",
       "      <td>1</td>\n",
       "    </tr>\n",
       "    <tr>\n",
       "      <th>...</th>\n",
       "      <td>...</td>\n",
       "      <td>...</td>\n",
       "      <td>...</td>\n",
       "      <td>...</td>\n",
       "      <td>...</td>\n",
       "      <td>...</td>\n",
       "      <td>...</td>\n",
       "      <td>...</td>\n",
       "      <td>...</td>\n",
       "    </tr>\n",
       "    <tr>\n",
       "      <th>763</th>\n",
       "      <td>10</td>\n",
       "      <td>101</td>\n",
       "      <td>76</td>\n",
       "      <td>48</td>\n",
       "      <td>180</td>\n",
       "      <td>32.9</td>\n",
       "      <td>0.171</td>\n",
       "      <td>63</td>\n",
       "      <td>0</td>\n",
       "    </tr>\n",
       "    <tr>\n",
       "      <th>764</th>\n",
       "      <td>2</td>\n",
       "      <td>122</td>\n",
       "      <td>70</td>\n",
       "      <td>27</td>\n",
       "      <td>0</td>\n",
       "      <td>36.8</td>\n",
       "      <td>0.340</td>\n",
       "      <td>27</td>\n",
       "      <td>0</td>\n",
       "    </tr>\n",
       "    <tr>\n",
       "      <th>765</th>\n",
       "      <td>5</td>\n",
       "      <td>121</td>\n",
       "      <td>72</td>\n",
       "      <td>23</td>\n",
       "      <td>112</td>\n",
       "      <td>26.2</td>\n",
       "      <td>0.245</td>\n",
       "      <td>30</td>\n",
       "      <td>0</td>\n",
       "    </tr>\n",
       "    <tr>\n",
       "      <th>766</th>\n",
       "      <td>1</td>\n",
       "      <td>126</td>\n",
       "      <td>60</td>\n",
       "      <td>0</td>\n",
       "      <td>0</td>\n",
       "      <td>30.1</td>\n",
       "      <td>0.349</td>\n",
       "      <td>47</td>\n",
       "      <td>1</td>\n",
       "    </tr>\n",
       "    <tr>\n",
       "      <th>767</th>\n",
       "      <td>1</td>\n",
       "      <td>93</td>\n",
       "      <td>70</td>\n",
       "      <td>31</td>\n",
       "      <td>0</td>\n",
       "      <td>30.4</td>\n",
       "      <td>0.315</td>\n",
       "      <td>23</td>\n",
       "      <td>0</td>\n",
       "    </tr>\n",
       "  </tbody>\n",
       "</table>\n",
       "<p>768 rows × 9 columns</p>\n",
       "</div>"
      ],
      "text/plain": [
       "      0    1   2   3    4     5      6   7  8\n",
       "0     6  148  72  35    0  33.6  0.627  50  1\n",
       "1     1   85  66  29    0  26.6  0.351  31  0\n",
       "2     8  183  64   0    0  23.3  0.672  32  1\n",
       "3     1   89  66  23   94  28.1  0.167  21  0\n",
       "4     0  137  40  35  168  43.1  2.288  33  1\n",
       "..   ..  ...  ..  ..  ...   ...    ...  .. ..\n",
       "763  10  101  76  48  180  32.9  0.171  63  0\n",
       "764   2  122  70  27    0  36.8  0.340  27  0\n",
       "765   5  121  72  23  112  26.2  0.245  30  0\n",
       "766   1  126  60   0    0  30.1  0.349  47  1\n",
       "767   1   93  70  31    0  30.4  0.315  23  0\n",
       "\n",
       "[768 rows x 9 columns]"
      ]
     },
     "execution_count": 3,
     "metadata": {},
     "output_type": "execute_result"
    }
   ],
   "source": [
    "#this dataset does not have fields names by default \n",
    "dataset"
   ]
  },
  {
   "cell_type": "code",
   "execution_count": 4,
   "metadata": {},
   "outputs": [
    {
     "data": {
      "text/html": [
       "<div>\n",
       "<style scoped>\n",
       "    .dataframe tbody tr th:only-of-type {\n",
       "        vertical-align: middle;\n",
       "    }\n",
       "\n",
       "    .dataframe tbody tr th {\n",
       "        vertical-align: top;\n",
       "    }\n",
       "\n",
       "    .dataframe thead th {\n",
       "        text-align: right;\n",
       "    }\n",
       "</style>\n",
       "<table border=\"1\" class=\"dataframe\">\n",
       "  <thead>\n",
       "    <tr style=\"text-align: right;\">\n",
       "      <th></th>\n",
       "      <th>0</th>\n",
       "      <th>1</th>\n",
       "      <th>2</th>\n",
       "      <th>3</th>\n",
       "      <th>4</th>\n",
       "      <th>5</th>\n",
       "      <th>6</th>\n",
       "      <th>7</th>\n",
       "      <th>8</th>\n",
       "    </tr>\n",
       "  </thead>\n",
       "  <tbody>\n",
       "    <tr>\n",
       "      <th>0</th>\n",
       "      <td>6</td>\n",
       "      <td>148</td>\n",
       "      <td>72</td>\n",
       "      <td>35</td>\n",
       "      <td>0</td>\n",
       "      <td>33.6</td>\n",
       "      <td>0.627</td>\n",
       "      <td>50</td>\n",
       "      <td>1</td>\n",
       "    </tr>\n",
       "    <tr>\n",
       "      <th>1</th>\n",
       "      <td>1</td>\n",
       "      <td>85</td>\n",
       "      <td>66</td>\n",
       "      <td>29</td>\n",
       "      <td>0</td>\n",
       "      <td>26.6</td>\n",
       "      <td>0.351</td>\n",
       "      <td>31</td>\n",
       "      <td>0</td>\n",
       "    </tr>\n",
       "    <tr>\n",
       "      <th>2</th>\n",
       "      <td>8</td>\n",
       "      <td>183</td>\n",
       "      <td>64</td>\n",
       "      <td>0</td>\n",
       "      <td>0</td>\n",
       "      <td>23.3</td>\n",
       "      <td>0.672</td>\n",
       "      <td>32</td>\n",
       "      <td>1</td>\n",
       "    </tr>\n",
       "    <tr>\n",
       "      <th>3</th>\n",
       "      <td>1</td>\n",
       "      <td>89</td>\n",
       "      <td>66</td>\n",
       "      <td>23</td>\n",
       "      <td>94</td>\n",
       "      <td>28.1</td>\n",
       "      <td>0.167</td>\n",
       "      <td>21</td>\n",
       "      <td>0</td>\n",
       "    </tr>\n",
       "    <tr>\n",
       "      <th>4</th>\n",
       "      <td>0</td>\n",
       "      <td>137</td>\n",
       "      <td>40</td>\n",
       "      <td>35</td>\n",
       "      <td>168</td>\n",
       "      <td>43.1</td>\n",
       "      <td>2.288</td>\n",
       "      <td>33</td>\n",
       "      <td>1</td>\n",
       "    </tr>\n",
       "  </tbody>\n",
       "</table>\n",
       "</div>"
      ],
      "text/plain": [
       "   0    1   2   3    4     5      6   7  8\n",
       "0  6  148  72  35    0  33.6  0.627  50  1\n",
       "1  1   85  66  29    0  26.6  0.351  31  0\n",
       "2  8  183  64   0    0  23.3  0.672  32  1\n",
       "3  1   89  66  23   94  28.1  0.167  21  0\n",
       "4  0  137  40  35  168  43.1  2.288  33  1"
      ]
     },
     "execution_count": 4,
     "metadata": {},
     "output_type": "execute_result"
    }
   ],
   "source": [
    "dataset.head(5)"
   ]
  },
  {
   "cell_type": "code",
   "execution_count": 5,
   "metadata": {},
   "outputs": [],
   "source": [
    "# final target\n",
    "y=dataset[8]"
   ]
  },
  {
   "cell_type": "code",
   "execution_count": 6,
   "metadata": {},
   "outputs": [],
   "source": [
    "# inputs\n",
    "x=dataset[[0,1,2,3,4,5,6,7]]"
   ]
  },
  {
   "cell_type": "code",
   "execution_count": 7,
   "metadata": {},
   "outputs": [],
   "source": [
    "from keras.models import Sequential"
   ]
  },
  {
   "cell_type": "code",
   "execution_count": 8,
   "metadata": {},
   "outputs": [],
   "source": [
    "model = Sequential()"
   ]
  },
  {
   "cell_type": "code",
   "execution_count": 9,
   "metadata": {},
   "outputs": [
    {
     "data": {
      "text/plain": [
       "{'name': 'sequential', 'layers': []}"
      ]
     },
     "execution_count": 9,
     "metadata": {},
     "output_type": "execute_result"
    }
   ],
   "source": [
    "model.get_config()"
   ]
  },
  {
   "cell_type": "code",
   "execution_count": 10,
   "metadata": {},
   "outputs": [],
   "source": [
    "from keras.layers import Dense"
   ]
  },
  {
   "cell_type": "code",
   "execution_count": 11,
   "metadata": {},
   "outputs": [],
   "source": [
    "model.add(Dense(units=4, kernel_initializer='zeros',bias_initializer='zeros', input_dim=8,activation='relu'))"
   ]
  },
  {
   "cell_type": "code",
   "execution_count": 12,
   "metadata": {},
   "outputs": [
    {
     "data": {
      "text/plain": [
       "{'name': 'sequential',\n",
       " 'layers': [{'class_name': 'InputLayer',\n",
       "   'config': {'batch_input_shape': (None, 8),\n",
       "    'dtype': 'float32',\n",
       "    'sparse': False,\n",
       "    'ragged': False,\n",
       "    'name': 'dense_input'}},\n",
       "  {'class_name': 'Dense',\n",
       "   'config': {'name': 'dense',\n",
       "    'trainable': True,\n",
       "    'batch_input_shape': (None, 8),\n",
       "    'dtype': 'float32',\n",
       "    'units': 4,\n",
       "    'activation': 'relu',\n",
       "    'use_bias': True,\n",
       "    'kernel_initializer': {'class_name': 'Zeros', 'config': {}},\n",
       "    'bias_initializer': {'class_name': 'Zeros', 'config': {}},\n",
       "    'kernel_regularizer': None,\n",
       "    'bias_regularizer': None,\n",
       "    'activity_regularizer': None,\n",
       "    'kernel_constraint': None,\n",
       "    'bias_constraint': None}}]}"
      ]
     },
     "execution_count": 12,
     "metadata": {},
     "output_type": "execute_result"
    }
   ],
   "source": [
    "model.get_config()"
   ]
  },
  {
   "cell_type": "code",
   "execution_count": 13,
   "metadata": {},
   "outputs": [
    {
     "data": {
      "text/plain": [
       "<bound method Model.get_layer of <keras.engine.sequential.Sequential object at 0x0000019E48062588>>"
      ]
     },
     "execution_count": 13,
     "metadata": {},
     "output_type": "execute_result"
    }
   ],
   "source": [
    "model.get_layer"
   ]
  },
  {
   "cell_type": "code",
   "execution_count": 14,
   "metadata": {},
   "outputs": [
    {
     "name": "stdout",
     "output_type": "stream",
     "text": [
      "Model: \"sequential\"\n",
      "_________________________________________________________________\n",
      "Layer (type)                 Output Shape              Param #   \n",
      "=================================================================\n",
      "dense (Dense)                (None, 4)                 36        \n",
      "=================================================================\n",
      "Total params: 36\n",
      "Trainable params: 36\n",
      "Non-trainable params: 0\n",
      "_________________________________________________________________\n"
     ]
    }
   ],
   "source": [
    "model.summary()"
   ]
  },
  {
   "cell_type": "code",
   "execution_count": 15,
   "metadata": {},
   "outputs": [],
   "source": [
    "model.add(Dense(\n",
    "units=4,\n",
    "activation= 'relu', \n",
    "kernel_initializer='zeros',\n",
    "    bias_initializer='zeros'\n",
    "))"
   ]
  },
  {
   "cell_type": "code",
   "execution_count": 16,
   "metadata": {},
   "outputs": [
    {
     "data": {
      "text/plain": [
       "{'name': 'sequential',\n",
       " 'layers': [{'class_name': 'InputLayer',\n",
       "   'config': {'batch_input_shape': (None, 8),\n",
       "    'dtype': 'float32',\n",
       "    'sparse': False,\n",
       "    'ragged': False,\n",
       "    'name': 'dense_input'}},\n",
       "  {'class_name': 'Dense',\n",
       "   'config': {'name': 'dense',\n",
       "    'trainable': True,\n",
       "    'batch_input_shape': (None, 8),\n",
       "    'dtype': 'float32',\n",
       "    'units': 4,\n",
       "    'activation': 'relu',\n",
       "    'use_bias': True,\n",
       "    'kernel_initializer': {'class_name': 'Zeros', 'config': {}},\n",
       "    'bias_initializer': {'class_name': 'Zeros', 'config': {}},\n",
       "    'kernel_regularizer': None,\n",
       "    'bias_regularizer': None,\n",
       "    'activity_regularizer': None,\n",
       "    'kernel_constraint': None,\n",
       "    'bias_constraint': None}},\n",
       "  {'class_name': 'Dense',\n",
       "   'config': {'name': 'dense_1',\n",
       "    'trainable': True,\n",
       "    'dtype': 'float32',\n",
       "    'units': 4,\n",
       "    'activation': 'relu',\n",
       "    'use_bias': True,\n",
       "    'kernel_initializer': {'class_name': 'Zeros', 'config': {}},\n",
       "    'bias_initializer': {'class_name': 'Zeros', 'config': {}},\n",
       "    'kernel_regularizer': None,\n",
       "    'bias_regularizer': None,\n",
       "    'activity_regularizer': None,\n",
       "    'kernel_constraint': None,\n",
       "    'bias_constraint': None}}]}"
      ]
     },
     "execution_count": 16,
     "metadata": {},
     "output_type": "execute_result"
    }
   ],
   "source": [
    "model.get_config()"
   ]
  },
  {
   "cell_type": "code",
   "execution_count": 17,
   "metadata": {},
   "outputs": [
    {
     "name": "stdout",
     "output_type": "stream",
     "text": [
      "Model: \"sequential\"\n",
      "_________________________________________________________________\n",
      "Layer (type)                 Output Shape              Param #   \n",
      "=================================================================\n",
      "dense (Dense)                (None, 4)                 36        \n",
      "_________________________________________________________________\n",
      "dense_1 (Dense)              (None, 4)                 20        \n",
      "=================================================================\n",
      "Total params: 56\n",
      "Trainable params: 56\n",
      "Non-trainable params: 0\n",
      "_________________________________________________________________\n"
     ]
    }
   ],
   "source": [
    "model.summary()"
   ]
  },
  {
   "cell_type": "code",
   "execution_count": 18,
   "metadata": {},
   "outputs": [],
   "source": [
    "model.add(Dense(units=1, activation='sigmoid',\n",
    "               kernel_initializer='zeros',bias_initializer='zeros',))"
   ]
  },
  {
   "cell_type": "code",
   "execution_count": 19,
   "metadata": {},
   "outputs": [
    {
     "name": "stdout",
     "output_type": "stream",
     "text": [
      "Model: \"sequential\"\n",
      "_________________________________________________________________\n",
      "Layer (type)                 Output Shape              Param #   \n",
      "=================================================================\n",
      "dense (Dense)                (None, 4)                 36        \n",
      "_________________________________________________________________\n",
      "dense_1 (Dense)              (None, 4)                 20        \n",
      "_________________________________________________________________\n",
      "dense_2 (Dense)              (None, 1)                 5         \n",
      "=================================================================\n",
      "Total params: 61\n",
      "Trainable params: 61\n",
      "Non-trainable params: 0\n",
      "_________________________________________________________________\n"
     ]
    }
   ],
   "source": [
    "#model designing: done. \n",
    "#Number of neuron in layer is a phase of random selection\n",
    "\n",
    "model.summary()"
   ]
  },
  {
   "cell_type": "code",
   "execution_count": 20,
   "metadata": {},
   "outputs": [],
   "source": [
    "#import the optimizer function\n",
    "from keras.optimizers import Adam"
   ]
  },
  {
   "cell_type": "code",
   "execution_count": 21,
   "metadata": {},
   "outputs": [],
   "source": [
    "#As here the problem is a binary classification type, and O/P of such problem are expressed \n",
    "#through sigmoid function (which express a probability), we are going to use Probabilistic Loss Functions\n",
    "#specially here, binary_crossentropy()\n",
    "#more details on keras doc website\n",
    "\n",
    "model.compile(optimizer=Adam(), loss='binary_crossentropy')"
   ]
  },
  {
   "cell_type": "code",
   "execution_count": 23,
   "metadata": {},
   "outputs": [
    {
     "name": "stdout",
     "output_type": "stream",
     "text": [
      "Epoch 1/100\n",
      "24/24 [==============================] - 0s 1ms/step - loss: 0.6886\n",
      "Epoch 2/100\n",
      "24/24 [==============================] - 0s 1ms/step - loss: 0.6856\n",
      "Epoch 3/100\n",
      "24/24 [==============================] - 0s 1ms/step - loss: 0.6829\n",
      "Epoch 4/100\n",
      "24/24 [==============================] - 0s 1ms/step - loss: 0.6804\n",
      "Epoch 5/100\n",
      "24/24 [==============================] - 0s 1ms/step - loss: 0.6779\n",
      "Epoch 6/100\n",
      "24/24 [==============================] - 0s 1ms/step - loss: 0.6756\n",
      "Epoch 7/100\n",
      "24/24 [==============================] - 0s 1ms/step - loss: 0.6734\n",
      "Epoch 8/100\n",
      "24/24 [==============================] - 0s 1ms/step - loss: 0.6714\n",
      "Epoch 9/100\n",
      "24/24 [==============================] - 0s 2ms/step - loss: 0.6695\n",
      "Epoch 10/100\n",
      "24/24 [==============================] - 0s 1ms/step - loss: 0.6678\n",
      "Epoch 11/100\n",
      "24/24 [==============================] - 0s 1ms/step - loss: 0.6662\n",
      "Epoch 12/100\n",
      "24/24 [==============================] - 0s 1ms/step - loss: 0.6646\n",
      "Epoch 13/100\n",
      "24/24 [==============================] - 0s 1ms/step - loss: 0.6632\n",
      "Epoch 14/100\n",
      "24/24 [==============================] - 0s 1ms/step - loss: 0.6619\n",
      "Epoch 15/100\n",
      "24/24 [==============================] - 0s 2ms/step - loss: 0.6607\n",
      "Epoch 16/100\n",
      "24/24 [==============================] - 0s 1ms/step - loss: 0.6596\n",
      "Epoch 17/100\n",
      "24/24 [==============================] - 0s 1ms/step - loss: 0.6585\n",
      "Epoch 18/100\n",
      "24/24 [==============================] - 0s 2ms/step - loss: 0.6576\n",
      "Epoch 19/100\n",
      "24/24 [==============================] - 0s 1ms/step - loss: 0.6566\n",
      "Epoch 20/100\n",
      "24/24 [==============================] - 0s 1ms/step - loss: 0.6558\n",
      "Epoch 21/100\n",
      "24/24 [==============================] - 0s 1ms/step - loss: 0.6550\n",
      "Epoch 22/100\n",
      "24/24 [==============================] - 0s 1ms/step - loss: 0.6543\n",
      "Epoch 23/100\n",
      "24/24 [==============================] - 0s 1ms/step - loss: 0.6537\n",
      "Epoch 24/100\n",
      "24/24 [==============================] - 0s 1ms/step - loss: 0.6531\n",
      "Epoch 25/100\n",
      "24/24 [==============================] - 0s 1ms/step - loss: 0.6525\n",
      "Epoch 26/100\n",
      "24/24 [==============================] - 0s 1ms/step - loss: 0.6520\n",
      "Epoch 27/100\n",
      "24/24 [==============================] - 0s 1ms/step - loss: 0.6515\n",
      "Epoch 28/100\n",
      "24/24 [==============================] - 0s 2ms/step - loss: 0.6511\n",
      "Epoch 29/100\n",
      "24/24 [==============================] - 0s 2ms/step - loss: 0.6507\n",
      "Epoch 30/100\n",
      "24/24 [==============================] - 0s 1ms/step - loss: 0.6504\n",
      "Epoch 31/100\n",
      "24/24 [==============================] - 0s 1ms/step - loss: 0.6500\n",
      "Epoch 32/100\n",
      "24/24 [==============================] - 0s 1ms/step - loss: 0.6498\n",
      "Epoch 33/100\n",
      "24/24 [==============================] - 0s 2ms/step - loss: 0.6495\n",
      "Epoch 34/100\n",
      "24/24 [==============================] - 0s 2ms/step - loss: 0.6492\n",
      "Epoch 35/100\n",
      "24/24 [==============================] - 0s 2ms/step - loss: 0.6490\n",
      "Epoch 36/100\n",
      "24/24 [==============================] - 0s 2ms/step - loss: 0.6488\n",
      "Epoch 37/100\n",
      "24/24 [==============================] - 0s 1ms/step - loss: 0.6486\n",
      "Epoch 38/100\n",
      "24/24 [==============================] - 0s 1ms/step - loss: 0.6484\n",
      "Epoch 39/100\n",
      "24/24 [==============================] - 0s 1ms/step - loss: 0.6483\n",
      "Epoch 40/100\n",
      "24/24 [==============================] - 0s 1ms/step - loss: 0.6481\n",
      "Epoch 41/100\n",
      "24/24 [==============================] - 0s 1ms/step - loss: 0.6480\n",
      "Epoch 42/100\n",
      "24/24 [==============================] - 0s 1ms/step - loss: 0.6479\n",
      "Epoch 43/100\n",
      "24/24 [==============================] - 0s 2ms/step - loss: 0.6478\n",
      "Epoch 44/100\n",
      "24/24 [==============================] - 0s 1ms/step - loss: 0.6477\n",
      "Epoch 45/100\n",
      "24/24 [==============================] - 0s 2ms/step - loss: 0.6476\n",
      "Epoch 46/100\n",
      "24/24 [==============================] - 0s 1ms/step - loss: 0.6475\n",
      "Epoch 47/100\n",
      "24/24 [==============================] - 0s 2ms/step - loss: 0.6474\n",
      "Epoch 48/100\n",
      "24/24 [==============================] - 0s 1ms/step - loss: 0.6474\n",
      "Epoch 49/100\n",
      "24/24 [==============================] - 0s 2ms/step - loss: 0.6473\n",
      "Epoch 50/100\n",
      "24/24 [==============================] - 0s 2ms/step - loss: 0.6473\n",
      "Epoch 51/100\n",
      "24/24 [==============================] - 0s 1ms/step - loss: 0.6472\n",
      "Epoch 52/100\n",
      "24/24 [==============================] - 0s 1ms/step - loss: 0.6472\n",
      "Epoch 53/100\n",
      "24/24 [==============================] - 0s 1ms/step - loss: 0.6472\n",
      "Epoch 54/100\n",
      "24/24 [==============================] - 0s 2ms/step - loss: 0.6471\n",
      "Epoch 55/100\n",
      "24/24 [==============================] - 0s 1ms/step - loss: 0.6471\n",
      "Epoch 56/100\n",
      "24/24 [==============================] - 0s 2ms/step - loss: 0.6471\n",
      "Epoch 57/100\n",
      "24/24 [==============================] - 0s 1ms/step - loss: 0.6470\n",
      "Epoch 58/100\n",
      "24/24 [==============================] - 0s 1ms/step - loss: 0.6470\n",
      "Epoch 59/100\n",
      "24/24 [==============================] - 0s 1ms/step - loss: 0.6470\n",
      "Epoch 60/100\n",
      "24/24 [==============================] - 0s 1ms/step - loss: 0.6470\n",
      "Epoch 61/100\n",
      "24/24 [==============================] - 0s 1ms/step - loss: 0.6470\n",
      "Epoch 62/100\n",
      "24/24 [==============================] - 0s 1ms/step - loss: 0.6469\n",
      "Epoch 63/100\n",
      "24/24 [==============================] - 0s 1ms/step - loss: 0.6469\n",
      "Epoch 64/100\n",
      "24/24 [==============================] - 0s 1ms/step - loss: 0.6469\n",
      "Epoch 65/100\n",
      "24/24 [==============================] - 0s 2ms/step - loss: 0.6469\n",
      "Epoch 66/100\n",
      "24/24 [==============================] - 0s 1ms/step - loss: 0.6469\n",
      "Epoch 67/100\n",
      "24/24 [==============================] - 0s 1ms/step - loss: 0.6469\n",
      "Epoch 68/100\n",
      "24/24 [==============================] - 0s 1ms/step - loss: 0.6469\n",
      "Epoch 69/100\n",
      "24/24 [==============================] - 0s 1ms/step - loss: 0.6469\n",
      "Epoch 70/100\n",
      "24/24 [==============================] - 0s 1ms/step - loss: 0.6469\n",
      "Epoch 71/100\n",
      "24/24 [==============================] - 0s 1ms/step - loss: 0.6469\n",
      "Epoch 72/100\n",
      "24/24 [==============================] - 0s 1ms/step - loss: 0.6468\n",
      "Epoch 73/100\n",
      "24/24 [==============================] - 0s 1ms/step - loss: 0.6468\n",
      "Epoch 74/100\n",
      "24/24 [==============================] - 0s 1ms/step - loss: 0.6468\n",
      "Epoch 75/100\n",
      "24/24 [==============================] - 0s 1ms/step - loss: 0.6468\n",
      "Epoch 76/100\n",
      "24/24 [==============================] - 0s 1ms/step - loss: 0.6469\n",
      "Epoch 77/100\n",
      "24/24 [==============================] - 0s 2ms/step - loss: 0.6468\n",
      "Epoch 78/100\n",
      "24/24 [==============================] - 0s 1ms/step - loss: 0.6468\n",
      "Epoch 79/100\n",
      "24/24 [==============================] - 0s 1ms/step - loss: 0.6468\n",
      "Epoch 80/100\n",
      "24/24 [==============================] - 0s 1ms/step - loss: 0.6468\n",
      "Epoch 81/100\n",
      "24/24 [==============================] - 0s 1ms/step - loss: 0.6468\n",
      "Epoch 82/100\n",
      "24/24 [==============================] - 0s 1ms/step - loss: 0.6468\n",
      "Epoch 83/100\n",
      "24/24 [==============================] - 0s 1ms/step - loss: 0.6468\n",
      "Epoch 84/100\n",
      "24/24 [==============================] - 0s 1ms/step - loss: 0.6468\n",
      "Epoch 85/100\n",
      "24/24 [==============================] - 0s 1ms/step - loss: 0.6468\n",
      "Epoch 86/100\n",
      "24/24 [==============================] - 0s 1ms/step - loss: 0.6468\n",
      "Epoch 87/100\n",
      "24/24 [==============================] - 0s 1ms/step - loss: 0.6468\n",
      "Epoch 88/100\n",
      "24/24 [==============================] - 0s 1ms/step - loss: 0.6468\n",
      "Epoch 89/100\n",
      "24/24 [==============================] - 0s 1ms/step - loss: 0.6469\n",
      "Epoch 90/100\n",
      "24/24 [==============================] - 0s 2ms/step - loss: 0.6468\n",
      "Epoch 91/100\n",
      "24/24 [==============================] - 0s 2ms/step - loss: 0.6468\n",
      "Epoch 92/100\n",
      "24/24 [==============================] - 0s 1ms/step - loss: 0.6468\n",
      "Epoch 93/100\n",
      "24/24 [==============================] - 0s 2ms/step - loss: 0.6468\n",
      "Epoch 94/100\n",
      "24/24 [==============================] - 0s 1ms/step - loss: 0.6468\n",
      "Epoch 95/100\n",
      "24/24 [==============================] - 0s 1ms/step - loss: 0.6468\n",
      "Epoch 96/100\n",
      "24/24 [==============================] - 0s 1ms/step - loss: 0.6468\n",
      "Epoch 97/100\n",
      "24/24 [==============================] - 0s 1ms/step - loss: 0.6468\n",
      "Epoch 98/100\n",
      "24/24 [==============================] - 0s 2ms/step - loss: 0.6468\n",
      "Epoch 99/100\n",
      "24/24 [==============================] - 0s 1ms/step - loss: 0.6468\n",
      "Epoch 100/100\n",
      "24/24 [==============================] - 0s 1ms/step - loss: 0.6468\n"
     ]
    },
    {
     "data": {
      "text/plain": [
       "<keras.callbacks.History at 0x19e4c323288>"
      ]
     },
     "execution_count": 23,
     "metadata": {},
     "output_type": "execute_result"
    }
   ],
   "source": [
    "#epochs specifies the number of backpropagation \n",
    "model.fit(x, y, epochs=100)"
   ]
  },
  {
   "cell_type": "code",
   "execution_count": null,
   "metadata": {},
   "outputs": [],
   "source": []
  }
 ],
 "metadata": {
  "kernelspec": {
   "display_name": "Python 3",
   "language": "python",
   "name": "python3"
  },
  "language_info": {
   "codemirror_mode": {
    "name": "ipython",
    "version": 3
   },
   "file_extension": ".py",
   "mimetype": "text/x-python",
   "name": "python",
   "nbconvert_exporter": "python",
   "pygments_lexer": "ipython3",
   "version": "3.7.6"
  }
 },
 "nbformat": 4,
 "nbformat_minor": 4
}
